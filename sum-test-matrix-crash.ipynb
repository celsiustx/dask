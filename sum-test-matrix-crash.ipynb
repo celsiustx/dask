{
 "cells": [
  {
   "cell_type": "code",
   "execution_count": null,
   "metadata": {},
   "outputs": [],
   "source": [
    "from dask.array import from_array\n",
    "from numpy import array\n",
    "\n",
    "A = array(range(36)).reshape((6,6))\n",
    "d = from_array(A, chunks=(3,3))\n",
    "d"
   ]
  },
  {
   "cell_type": "markdown",
   "metadata": {},
   "source": [
    "## `np.matrix`"
   ]
  },
  {
   "cell_type": "code",
   "execution_count": null,
   "metadata": {},
   "outputs": [],
   "source": [
    "from numpy import matrix\n",
    "\n",
    "mats = d.map_blocks(matrix, chunks=(3,3))\n",
    "matsc = mats.compute(scheduler=\"synchronous\")\n",
    "matsc"
   ]
  },
  {
   "cell_type": "markdown",
   "metadata": {},
   "source": [
    "Dask dense blocks:"
   ]
  },
  {
   "cell_type": "code",
   "execution_count": null,
   "metadata": {},
   "outputs": [],
   "source": [
    "d.sum().compute(), d.sum(keepdims=False).compute(), d.sum(keepdims=True).compute()"
   ]
  },
  {
   "cell_type": "markdown",
   "metadata": {},
   "source": [
    "`.sum()` works on a non-Dask matrix:"
   ]
  },
  {
   "cell_type": "code",
   "execution_count": null,
   "metadata": {},
   "outputs": [],
   "source": [
    "matsc.sum()"
   ]
  },
  {
   "cell_type": "markdown",
   "metadata": {},
   "source": [
    "Any `.sum()` call on the Dask version fails though:"
   ]
  },
  {
   "cell_type": "code",
   "execution_count": null,
   "metadata": {
    "scrolled": true
   },
   "outputs": [],
   "source": [
    "mats.sum().compute()"
   ]
  }
 ],
 "metadata": {
  "kernelspec": {
   "display_name": "3.8.2",
   "language": "python",
   "name": "3.8.2"
  },
  "language_info": {
   "codemirror_mode": {
    "name": "ipython",
    "version": 3
   },
   "file_extension": ".py",
   "mimetype": "text/x-python",
   "name": "python",
   "nbconvert_exporter": "python",
   "pygments_lexer": "ipython3",
   "version": "3.8.2"
  }
 },
 "nbformat": 4,
 "nbformat_minor": 2
}
