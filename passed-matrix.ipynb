{
 "cells": [
  {
   "cell_type": "code",
   "execution_count": 2,
   "metadata": {
    "execution": {
     "iopub.execute_input": "2020-05-29T04:35:57.549400Z",
     "iopub.status.busy": "2020-05-29T04:35:57.548676Z",
     "iopub.status.idle": "2020-05-29T04:35:57.906962Z",
     "shell.execute_reply": "2020-05-29T04:35:57.907581Z"
    },
    "papermill": {
     "duration": 0.385793,
     "end_time": "2020-05-29T04:35:57.907739",
     "exception": false,
     "start_time": "2020-05-29T04:35:57.521946",
     "status": "completed"
    },
    "tags": []
   },
   "outputs": [
    {
     "ename": "ImportError",
     "evalue": "No module named 'tlz'\n\nDask array requirements are not installed.\n\nPlease either conda or pip install as follows:\n\n  conda install dask                 # either conda install\n  python -m pip install dask[array] --upgrade  # or python -m pip install",
     "output_type": "error",
     "traceback": [
      "\u001b[0;31m---------------------------------------------------------------------------\u001b[0m",
      "\u001b[0;31mModuleNotFoundError\u001b[0m                       Traceback (most recent call last)",
      "\u001b[0;32m~/c/celsius/scdb/dask/dask/array/__init__.py\u001b[0m in \u001b[0;36m<module>\u001b[0;34m\u001b[0m\n\u001b[1;32m      1\u001b[0m \u001b[0;32mtry\u001b[0m\u001b[0;34m:\u001b[0m\u001b[0;34m\u001b[0m\u001b[0;34m\u001b[0m\u001b[0m\n\u001b[0;32m----> 2\u001b[0;31m     \u001b[0;32mfrom\u001b[0m \u001b[0;34m.\u001b[0m\u001b[0mblockwise\u001b[0m \u001b[0;32mimport\u001b[0m \u001b[0mblockwise\u001b[0m\u001b[0;34m,\u001b[0m \u001b[0matop\u001b[0m\u001b[0;34m\u001b[0m\u001b[0;34m\u001b[0m\u001b[0m\n\u001b[0m\u001b[1;32m      3\u001b[0m     from .core import (\n",
      "\u001b[0;32m~/c/celsius/scdb/dask/dask/array/blockwise.py\u001b[0m in \u001b[0;36m<module>\u001b[0;34m\u001b[0m\n\u001b[1;32m      3\u001b[0m \u001b[0;34m\u001b[0m\u001b[0m\n\u001b[0;32m----> 4\u001b[0;31m \u001b[0;32mimport\u001b[0m \u001b[0mtlz\u001b[0m \u001b[0;32mas\u001b[0m \u001b[0mtoolz\u001b[0m\u001b[0;34m\u001b[0m\u001b[0;34m\u001b[0m\u001b[0m\n\u001b[0m\u001b[1;32m      5\u001b[0m \u001b[0;34m\u001b[0m\u001b[0m\n",
      "\u001b[0;31mModuleNotFoundError\u001b[0m: No module named 'tlz'",
      "\nDuring handling of the above exception, another exception occurred:\n",
      "\u001b[0;31mImportError\u001b[0m                               Traceback (most recent call last)",
      "\u001b[0;32m<ipython-input-2-7113bd8367aa>\u001b[0m in \u001b[0;36m<module>\u001b[0;34m\u001b[0m\n\u001b[0;32m----> 1\u001b[0;31m \u001b[0;32mfrom\u001b[0m \u001b[0mdask\u001b[0m\u001b[0;34m.\u001b[0m\u001b[0marray\u001b[0m \u001b[0;32mimport\u001b[0m \u001b[0mfrom_array\u001b[0m\u001b[0;34m\u001b[0m\u001b[0;34m\u001b[0m\u001b[0m\n\u001b[0m\u001b[1;32m      2\u001b[0m \u001b[0;32mfrom\u001b[0m \u001b[0mnumpy\u001b[0m \u001b[0;32mimport\u001b[0m \u001b[0marray\u001b[0m\u001b[0;34m\u001b[0m\u001b[0;34m\u001b[0m\u001b[0m\n\u001b[1;32m      3\u001b[0m \u001b[0;34m\u001b[0m\u001b[0m\n\u001b[1;32m      4\u001b[0m \u001b[0mA\u001b[0m \u001b[0;34m=\u001b[0m \u001b[0marray\u001b[0m\u001b[0;34m(\u001b[0m\u001b[0mrange\u001b[0m\u001b[0;34m(\u001b[0m\u001b[0;36m36\u001b[0m\u001b[0;34m)\u001b[0m\u001b[0;34m)\u001b[0m\u001b[0;34m.\u001b[0m\u001b[0mreshape\u001b[0m\u001b[0;34m(\u001b[0m\u001b[0;34m(\u001b[0m\u001b[0;36m6\u001b[0m\u001b[0;34m,\u001b[0m\u001b[0;36m6\u001b[0m\u001b[0;34m)\u001b[0m\u001b[0;34m)\u001b[0m\u001b[0;34m\u001b[0m\u001b[0;34m\u001b[0m\u001b[0m\n\u001b[1;32m      5\u001b[0m \u001b[0md\u001b[0m \u001b[0;34m=\u001b[0m \u001b[0mfrom_array\u001b[0m\u001b[0;34m(\u001b[0m\u001b[0mA\u001b[0m\u001b[0;34m,\u001b[0m \u001b[0mchunks\u001b[0m\u001b[0;34m=\u001b[0m\u001b[0;34m(\u001b[0m\u001b[0;36m3\u001b[0m\u001b[0;34m,\u001b[0m\u001b[0;36m3\u001b[0m\u001b[0;34m)\u001b[0m\u001b[0;34m)\u001b[0m\u001b[0;34m\u001b[0m\u001b[0;34m\u001b[0m\u001b[0m\n",
      "\u001b[0;32m~/c/celsius/scdb/dask/dask/array/__init__.py\u001b[0m in \u001b[0;36m<module>\u001b[0;34m\u001b[0m\n\u001b[1;32m    248\u001b[0m         \u001b[0;34m\"  python -m pip install dask[array] --upgrade  # or python -m pip install\"\u001b[0m\u001b[0;34m\u001b[0m\u001b[0;34m\u001b[0m\u001b[0m\n\u001b[1;32m    249\u001b[0m     )\n\u001b[0;32m--> 250\u001b[0;31m     \u001b[0;32mraise\u001b[0m \u001b[0mImportError\u001b[0m\u001b[0;34m(\u001b[0m\u001b[0mstr\u001b[0m\u001b[0;34m(\u001b[0m\u001b[0me\u001b[0m\u001b[0;34m)\u001b[0m \u001b[0;34m+\u001b[0m \u001b[0;34m\"\\n\\n\"\u001b[0m \u001b[0;34m+\u001b[0m \u001b[0mmsg\u001b[0m\u001b[0;34m)\u001b[0m\u001b[0;34m\u001b[0m\u001b[0;34m\u001b[0m\u001b[0m\n\u001b[0m",
      "\u001b[0;31mImportError\u001b[0m: No module named 'tlz'\n\nDask array requirements are not installed.\n\nPlease either conda or pip install as follows:\n\n  conda install dask                 # either conda install\n  python -m pip install dask[array] --upgrade  # or python -m pip install"
     ]
    }
   ],
   "source": [
    "from dask.array import from_array\n",
    "from numpy import array\n",
    "\n",
    "A = array(range(36)).reshape((6,6))\n",
    "d = from_array(A, chunks=(3,3))\n",
    "d"
   ]
  },
  {
   "cell_type": "code",
   "execution_count": 3,
   "metadata": {},
   "outputs": [
    {
     "data": {
      "text/plain": [
       "'/Users/ryan/.pyenv/versions/3.8.2/bin/python'"
      ]
     },
     "execution_count": 3,
     "metadata": {},
     "output_type": "execute_result"
    }
   ],
   "source": [
    "from sys import executable as python\n",
    "python"
   ]
  },
  {
   "cell_type": "markdown",
   "metadata": {
    "papermill": {
     "duration": 0.020443,
     "end_time": "2020-05-29T04:35:57.943584",
     "exception": false,
     "start_time": "2020-05-29T04:35:57.923141",
     "status": "completed"
    },
    "tags": []
   },
   "source": [
    "## `np.matrix`"
   ]
  },
  {
   "cell_type": "code",
   "execution_count": null,
   "metadata": {
    "execution": {
     "iopub.execute_input": "2020-05-29T04:35:57.983139Z",
     "iopub.status.busy": "2020-05-29T04:35:57.982500Z",
     "iopub.status.idle": "2020-05-29T04:35:57.989120Z",
     "shell.execute_reply": "2020-05-29T04:35:57.988472Z"
    },
    "papermill": {
     "duration": 0.030124,
     "end_time": "2020-05-29T04:35:57.989219",
     "exception": false,
     "start_time": "2020-05-29T04:35:57.959095",
     "status": "completed"
    },
    "tags": []
   },
   "outputs": [],
   "source": [
    "from numpy import matrix\n",
    "\n",
    "mats = d.map_blocks(matrix, chunks=(3,3))\n",
    "matsc = mats.compute(scheduler=\"synchronous\")\n",
    "matsc"
   ]
  },
  {
   "cell_type": "markdown",
   "metadata": {
    "papermill": {
     "duration": 0.015508,
     "end_time": "2020-05-29T04:35:58.020498",
     "exception": false,
     "start_time": "2020-05-29T04:35:58.004990",
     "status": "completed"
    },
    "tags": []
   },
   "source": [
    "### `axis=None`"
   ]
  },
  {
   "cell_type": "markdown",
   "metadata": {
    "papermill": {
     "duration": 0.018968,
     "end_time": "2020-05-29T04:35:58.054049",
     "exception": false,
     "start_time": "2020-05-29T04:35:58.035081",
     "status": "completed"
    },
    "tags": []
   },
   "source": [
    "Dask dense blocks:"
   ]
  },
  {
   "cell_type": "code",
   "execution_count": null,
   "metadata": {
    "execution": {
     "iopub.execute_input": "2020-05-29T04:35:58.090525Z",
     "iopub.status.busy": "2020-05-29T04:35:58.089915Z",
     "iopub.status.idle": "2020-05-29T04:35:58.114811Z",
     "shell.execute_reply": "2020-05-29T04:35:58.114279Z"
    },
    "papermill": {
     "duration": 0.04629,
     "end_time": "2020-05-29T04:35:58.114906",
     "exception": false,
     "start_time": "2020-05-29T04:35:58.068616",
     "status": "completed"
    },
    "tags": []
   },
   "outputs": [],
   "source": [
    "d.sum().compute(), d.sum(keepdims=False).compute(), d.sum(keepdims=True).compute()"
   ]
  },
  {
   "cell_type": "markdown",
   "metadata": {
    "papermill": {
     "duration": 0.015262,
     "end_time": "2020-05-29T04:35:58.144222",
     "exception": false,
     "start_time": "2020-05-29T04:35:58.128960",
     "status": "completed"
    },
    "tags": []
   },
   "source": [
    "Dask np.matrix blocks:"
   ]
  },
  {
   "cell_type": "code",
   "execution_count": null,
   "metadata": {
    "execution": {
     "iopub.execute_input": "2020-05-29T04:35:58.181941Z",
     "iopub.status.busy": "2020-05-29T04:35:58.181292Z",
     "iopub.status.idle": "2020-05-29T04:35:58.204108Z",
     "shell.execute_reply": "2020-05-29T04:35:58.203621Z"
    },
    "papermill": {
     "duration": 0.044788,
     "end_time": "2020-05-29T04:35:58.204289",
     "exception": false,
     "start_time": "2020-05-29T04:35:58.159501",
     "status": "completed"
    },
    "scrolled": true,
    "tags": []
   },
   "outputs": [],
   "source": [
    "mats.sum().compute(), mats.sum(keepdims=False).compute(), mats.sum(keepdims=True).compute()"
   ]
  },
  {
   "cell_type": "markdown",
   "metadata": {
    "papermill": {
     "duration": 0.014697,
     "end_time": "2020-05-29T04:35:58.234800",
     "exception": false,
     "start_time": "2020-05-29T04:35:58.220103",
     "status": "completed"
    },
    "tags": []
   },
   "source": [
    "np.matrix, sans Dask:"
   ]
  },
  {
   "cell_type": "code",
   "execution_count": null,
   "metadata": {
    "execution": {
     "iopub.execute_input": "2020-05-29T04:35:58.271351Z",
     "iopub.status.busy": "2020-05-29T04:35:58.270747Z",
     "iopub.status.idle": "2020-05-29T04:35:58.274639Z",
     "shell.execute_reply": "2020-05-29T04:35:58.274222Z"
    },
    "papermill": {
     "duration": 0.024635,
     "end_time": "2020-05-29T04:35:58.274734",
     "exception": false,
     "start_time": "2020-05-29T04:35:58.250099",
     "status": "completed"
    },
    "scrolled": true,
    "tags": []
   },
   "outputs": [],
   "source": [
    "matsc.sum(), matsc.sum(keepdims=False), matsc.sum(keepdims=True)"
   ]
  },
  {
   "cell_type": "markdown",
   "metadata": {
    "papermill": {
     "duration": 0.015738,
     "end_time": "2020-05-29T04:35:58.306351",
     "exception": false,
     "start_time": "2020-05-29T04:35:58.290613",
     "status": "completed"
    },
    "tags": []
   },
   "source": [
    "### `axis=0`"
   ]
  },
  {
   "cell_type": "markdown",
   "metadata": {
    "papermill": {
     "duration": 0.014753,
     "end_time": "2020-05-29T04:35:58.336652",
     "exception": false,
     "start_time": "2020-05-29T04:35:58.321899",
     "status": "completed"
    },
    "tags": []
   },
   "source": [
    "Dask dense blocks:"
   ]
  },
  {
   "cell_type": "code",
   "execution_count": null,
   "metadata": {
    "execution": {
     "iopub.execute_input": "2020-05-29T04:35:58.375758Z",
     "iopub.status.busy": "2020-05-29T04:35:58.374869Z",
     "iopub.status.idle": "2020-05-29T04:35:58.396063Z",
     "shell.execute_reply": "2020-05-29T04:35:58.395520Z"
    },
    "papermill": {
     "duration": 0.044028,
     "end_time": "2020-05-29T04:35:58.396246",
     "exception": false,
     "start_time": "2020-05-29T04:35:58.352218",
     "status": "completed"
    },
    "tags": []
   },
   "outputs": [],
   "source": [
    "d.sum(axis=0).compute(), d.sum(axis=0, keepdims=False).compute(), d.sum(axis=0, keepdims=True).compute()"
   ]
  },
  {
   "cell_type": "markdown",
   "metadata": {
    "papermill": {
     "duration": 0.015848,
     "end_time": "2020-05-29T04:35:58.429017",
     "exception": false,
     "start_time": "2020-05-29T04:35:58.413169",
     "status": "completed"
    },
    "tags": []
   },
   "source": [
    "Dask np.matrix blocks:"
   ]
  },
  {
   "cell_type": "code",
   "execution_count": null,
   "metadata": {
    "execution": {
     "iopub.execute_input": "2020-05-29T04:35:58.470690Z",
     "iopub.status.busy": "2020-05-29T04:35:58.469736Z",
     "iopub.status.idle": "2020-05-29T04:35:58.490677Z",
     "shell.execute_reply": "2020-05-29T04:35:58.490264Z"
    },
    "papermill": {
     "duration": 0.045222,
     "end_time": "2020-05-29T04:35:58.490773",
     "exception": false,
     "start_time": "2020-05-29T04:35:58.445551",
     "status": "completed"
    },
    "tags": []
   },
   "outputs": [],
   "source": [
    "mats.sum(axis=0).compute(), mats.sum(axis=0, keepdims=False).compute(), mats.sum(axis=0, keepdims=True).compute()"
   ]
  },
  {
   "cell_type": "markdown",
   "metadata": {
    "papermill": {
     "duration": 0.01606,
     "end_time": "2020-05-29T04:35:58.521995",
     "exception": false,
     "start_time": "2020-05-29T04:35:58.505935",
     "status": "completed"
    },
    "tags": []
   },
   "source": [
    "np.matrix, sans Dask:"
   ]
  },
  {
   "cell_type": "code",
   "execution_count": null,
   "metadata": {
    "execution": {
     "iopub.execute_input": "2020-05-29T04:35:58.563792Z",
     "iopub.status.busy": "2020-05-29T04:35:58.563016Z",
     "iopub.status.idle": "2020-05-29T04:35:58.568404Z",
     "shell.execute_reply": "2020-05-29T04:35:58.567847Z"
    },
    "papermill": {
     "duration": 0.030149,
     "end_time": "2020-05-29T04:35:58.568506",
     "exception": false,
     "start_time": "2020-05-29T04:35:58.538357",
     "status": "completed"
    },
    "tags": []
   },
   "outputs": [],
   "source": [
    "matsc.sum(axis=0), matsc.sum(axis=0, keepdims=False), matsc.sum(axis=0, keepdims=True)"
   ]
  },
  {
   "cell_type": "markdown",
   "metadata": {
    "papermill": {
     "duration": 0.017475,
     "end_time": "2020-05-29T04:35:58.602329",
     "exception": false,
     "start_time": "2020-05-29T04:35:58.584854",
     "status": "completed"
    },
    "tags": []
   },
   "source": [
    "### `axis=1`"
   ]
  },
  {
   "cell_type": "markdown",
   "metadata": {
    "papermill": {
     "duration": 0.015214,
     "end_time": "2020-05-29T04:35:58.634482",
     "exception": false,
     "start_time": "2020-05-29T04:35:58.619268",
     "status": "completed"
    },
    "tags": []
   },
   "source": [
    "Dask dense blocks:"
   ]
  },
  {
   "cell_type": "code",
   "execution_count": null,
   "metadata": {
    "execution": {
     "iopub.execute_input": "2020-05-29T04:35:58.679944Z",
     "iopub.status.busy": "2020-05-29T04:35:58.678987Z",
     "iopub.status.idle": "2020-05-29T04:35:58.697747Z",
     "shell.execute_reply": "2020-05-29T04:35:58.698451Z"
    },
    "papermill": {
     "duration": 0.047127,
     "end_time": "2020-05-29T04:35:58.698579",
     "exception": false,
     "start_time": "2020-05-29T04:35:58.651452",
     "status": "completed"
    },
    "tags": []
   },
   "outputs": [],
   "source": [
    "d.sum(axis=1).compute(), d.sum(axis=1, keepdims=False).compute(), d.sum(axis=1, keepdims=True).compute()"
   ]
  },
  {
   "cell_type": "markdown",
   "metadata": {
    "papermill": {
     "duration": 0.01663,
     "end_time": "2020-05-29T04:35:58.733557",
     "exception": false,
     "start_time": "2020-05-29T04:35:58.716927",
     "status": "completed"
    },
    "tags": []
   },
   "source": [
    "Dask np.matrix blocks:"
   ]
  },
  {
   "cell_type": "code",
   "execution_count": null,
   "metadata": {
    "execution": {
     "iopub.execute_input": "2020-05-29T04:35:58.779721Z",
     "iopub.status.busy": "2020-05-29T04:35:58.779140Z",
     "iopub.status.idle": "2020-05-29T04:35:58.799720Z",
     "shell.execute_reply": "2020-05-29T04:35:58.799146Z"
    },
    "papermill": {
     "duration": 0.048947,
     "end_time": "2020-05-29T04:35:58.799822",
     "exception": false,
     "start_time": "2020-05-29T04:35:58.750875",
     "status": "completed"
    },
    "tags": []
   },
   "outputs": [],
   "source": [
    "mats.sum(axis=1).compute(), mats.sum(axis=1, keepdims=False).compute(), mats.sum(axis=1, keepdims=True).compute()"
   ]
  },
  {
   "cell_type": "markdown",
   "metadata": {
    "papermill": {
     "duration": 0.016676,
     "end_time": "2020-05-29T04:35:58.837874",
     "exception": false,
     "start_time": "2020-05-29T04:35:58.821198",
     "status": "completed"
    },
    "tags": []
   },
   "source": [
    "np.matrix, sans Dask:"
   ]
  },
  {
   "cell_type": "code",
   "execution_count": null,
   "metadata": {
    "execution": {
     "iopub.execute_input": "2020-05-29T04:35:58.879346Z",
     "iopub.status.busy": "2020-05-29T04:35:58.878744Z",
     "iopub.status.idle": "2020-05-29T04:35:58.882376Z",
     "shell.execute_reply": "2020-05-29T04:35:58.882970Z"
    },
    "papermill": {
     "duration": 0.026815,
     "end_time": "2020-05-29T04:35:58.883180",
     "exception": false,
     "start_time": "2020-05-29T04:35:58.856365",
     "status": "completed"
    },
    "tags": []
   },
   "outputs": [],
   "source": [
    "matsc.sum(axis=1), matsc.sum(axis=1, keepdims=False), matsc.sum(axis=1, keepdims=True)"
   ]
  }
 ],
 "metadata": {
  "kernelspec": {
   "display_name": "3.8.2",
   "language": "python",
   "name": "3.8.2"
  },
  "language_info": {
   "codemirror_mode": {
    "name": "ipython",
    "version": 3
   },
   "file_extension": ".py",
   "mimetype": "text/x-python",
   "name": "python",
   "nbconvert_exporter": "python",
   "pygments_lexer": "ipython3",
   "version": "3.8.2"
  },
  "papermill": {
   "duration": 2.326012,
   "end_time": "2020-05-29T04:35:59.011008",
   "environment_variables": {},
   "exception": null,
   "input_path": "sum-test-matrix.ipynb",
   "output_path": "passed-matrix.ipynb",
   "parameters": {},
   "start_time": "2020-05-29T04:35:56.684996",
   "version": "2.1.1"
  }
 },
 "nbformat": 4,
 "nbformat_minor": 2
}
