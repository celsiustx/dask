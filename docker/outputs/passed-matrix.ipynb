{
 "cells": [
  {
   "cell_type": "code",
   "execution_count": 1,
   "metadata": {
    "execution": {
     "iopub.execute_input": "2020-06-29T23:22:06.770164Z",
     "iopub.status.busy": "2020-06-29T23:22:06.768918Z",
     "iopub.status.idle": "2020-06-29T23:22:07.607455Z",
     "shell.execute_reply": "2020-06-29T23:22:07.607926Z"
    },
    "papermill": {
     "duration": 0.860929,
     "end_time": "2020-06-29T23:22:07.608148",
     "exception": false,
     "start_time": "2020-06-29T23:22:06.747219",
     "status": "completed"
    },
    "tags": []
   },
   "outputs": [
    {
     "data": {
      "text/html": [
       "<table>\n",
       "<tr>\n",
       "<td>\n",
       "<table>\n",
       "  <thead>\n",
       "    <tr><td> </td><th> Array </th><th> Chunk </th></tr>\n",
       "  </thead>\n",
       "  <tbody>\n",
       "    <tr><th> Bytes </th><td> 288 B </td> <td> 72 B </td></tr>\n",
       "    <tr><th> Shape </th><td> (6, 6) </td> <td> (3, 3) </td></tr>\n",
       "    <tr><th> Count </th><td> 5 Tasks </td><td> 4 Chunks </td></tr>\n",
       "    <tr><th> Type </th><td> int64 </td><td> numpy.ndarray </td></tr>\n",
       "  </tbody>\n",
       "</table>\n",
       "</td>\n",
       "<td>\n",
       "<svg width=\"170\" height=\"170\" style=\"stroke:rgb(0,0,0);stroke-width:1\" >\n",
       "\n",
       "  <!-- Horizontal lines -->\n",
       "  <line x1=\"0\" y1=\"0\" x2=\"120\" y2=\"0\" style=\"stroke-width:2\" />\n",
       "  <line x1=\"0\" y1=\"60\" x2=\"120\" y2=\"60\" />\n",
       "  <line x1=\"0\" y1=\"120\" x2=\"120\" y2=\"120\" style=\"stroke-width:2\" />\n",
       "\n",
       "  <!-- Vertical lines -->\n",
       "  <line x1=\"0\" y1=\"0\" x2=\"0\" y2=\"120\" style=\"stroke-width:2\" />\n",
       "  <line x1=\"60\" y1=\"0\" x2=\"60\" y2=\"120\" />\n",
       "  <line x1=\"120\" y1=\"0\" x2=\"120\" y2=\"120\" style=\"stroke-width:2\" />\n",
       "\n",
       "  <!-- Colored Rectangle -->\n",
       "  <polygon points=\"0.000000,0.000000 120.000000,0.000000 120.000000,120.000000 0.000000,120.000000\" style=\"fill:#ECB172A0;stroke-width:0\"/>\n",
       "\n",
       "  <!-- Text -->\n",
       "  <text x=\"60.000000\" y=\"140.000000\" font-size=\"1.0rem\" font-weight=\"100\" text-anchor=\"middle\" >6</text>\n",
       "  <text x=\"140.000000\" y=\"60.000000\" font-size=\"1.0rem\" font-weight=\"100\" text-anchor=\"middle\" transform=\"rotate(0,140.000000,60.000000)\">6</text>\n",
       "</svg>\n",
       "</td>\n",
       "</tr>\n",
       "</table>"
      ],
      "text/plain": [
       "dask.array<array, shape=(6, 6), dtype=int64, chunksize=(3, 3), chunktype=numpy.ndarray>"
      ]
     },
     "execution_count": 1,
     "metadata": {},
     "output_type": "execute_result"
    }
   ],
   "source": [
    "from dask.array import from_array\n",
    "from numpy import array\n",
    "\n",
    "A = array(range(36)).reshape((6,6))\n",
    "d = from_array(A, chunks=(3,3))\n",
    "d"
   ]
  },
  {
   "cell_type": "markdown",
   "metadata": {
    "papermill": {
     "duration": 0.014793,
     "end_time": "2020-06-29T23:22:07.638878",
     "exception": false,
     "start_time": "2020-06-29T23:22:07.624085",
     "status": "completed"
    },
    "tags": []
   },
   "source": [
    "## `np.matrix`"
   ]
  },
  {
   "cell_type": "code",
   "execution_count": 2,
   "metadata": {
    "execution": {
     "iopub.execute_input": "2020-06-29T23:22:07.683584Z",
     "iopub.status.busy": "2020-06-29T23:22:07.681759Z",
     "iopub.status.idle": "2020-06-29T23:22:07.688194Z",
     "shell.execute_reply": "2020-06-29T23:22:07.687641Z"
    },
    "papermill": {
     "duration": 0.031411,
     "end_time": "2020-06-29T23:22:07.688370",
     "exception": false,
     "start_time": "2020-06-29T23:22:07.656959",
     "status": "completed"
    },
    "tags": []
   },
   "outputs": [
    {
     "data": {
      "text/plain": [
       "matrix([[ 0,  1,  2,  3,  4,  5],\n",
       "        [ 6,  7,  8,  9, 10, 11],\n",
       "        [12, 13, 14, 15, 16, 17],\n",
       "        [18, 19, 20, 21, 22, 23],\n",
       "        [24, 25, 26, 27, 28, 29],\n",
       "        [30, 31, 32, 33, 34, 35]])"
      ]
     },
     "execution_count": 2,
     "metadata": {},
     "output_type": "execute_result"
    }
   ],
   "source": [
    "from numpy import matrix\n",
    "\n",
    "mats = d.map_blocks(matrix, chunks=(3,3))\n",
    "matsc = mats.compute(scheduler=\"synchronous\")\n",
    "matsc"
   ]
  },
  {
   "cell_type": "markdown",
   "metadata": {
    "papermill": {
     "duration": 0.015385,
     "end_time": "2020-06-29T23:22:07.718387",
     "exception": false,
     "start_time": "2020-06-29T23:22:07.703002",
     "status": "completed"
    },
    "tags": []
   },
   "source": [
    "### `axis=None`"
   ]
  },
  {
   "cell_type": "markdown",
   "metadata": {
    "papermill": {
     "duration": 0.016598,
     "end_time": "2020-06-29T23:22:07.750123",
     "exception": false,
     "start_time": "2020-06-29T23:22:07.733525",
     "status": "completed"
    },
    "tags": []
   },
   "source": [
    "Dask dense blocks:"
   ]
  },
  {
   "cell_type": "code",
   "execution_count": 3,
   "metadata": {
    "execution": {
     "iopub.execute_input": "2020-06-29T23:22:07.794119Z",
     "iopub.status.busy": "2020-06-29T23:22:07.791397Z",
     "iopub.status.idle": "2020-06-29T23:22:08.100609Z",
     "shell.execute_reply": "2020-06-29T23:22:08.099135Z"
    },
    "papermill": {
     "duration": 0.336455,
     "end_time": "2020-06-29T23:22:08.100896",
     "exception": false,
     "start_time": "2020-06-29T23:22:07.764441",
     "status": "completed"
    },
    "tags": []
   },
   "outputs": [
    {
     "data": {
      "text/plain": [
       "(630, 630, array([[630]]))"
      ]
     },
     "execution_count": 3,
     "metadata": {},
     "output_type": "execute_result"
    }
   ],
   "source": [
    "d.sum().compute(), d.sum(keepdims=False).compute(), d.sum(keepdims=True).compute()"
   ]
  },
  {
   "cell_type": "markdown",
   "metadata": {
    "papermill": {
     "duration": 0.027625,
     "end_time": "2020-06-29T23:22:08.155321",
     "exception": false,
     "start_time": "2020-06-29T23:22:08.127696",
     "status": "completed"
    },
    "tags": []
   },
   "source": [
    "Dask np.matrix blocks:"
   ]
  },
  {
   "cell_type": "code",
   "execution_count": 4,
   "metadata": {
    "execution": {
     "iopub.execute_input": "2020-06-29T23:22:08.228453Z",
     "iopub.status.busy": "2020-06-29T23:22:08.225194Z",
     "iopub.status.idle": "2020-06-29T23:22:08.265813Z",
     "shell.execute_reply": "2020-06-29T23:22:08.264257Z"
    },
    "papermill": {
     "duration": 0.084426,
     "end_time": "2020-06-29T23:22:08.266110",
     "exception": false,
     "start_time": "2020-06-29T23:22:08.181684",
     "status": "completed"
    },
    "scrolled": true,
    "tags": []
   },
   "outputs": [
    {
     "data": {
      "text/plain": [
       "(matrix([[630]]), matrix([[630]]), matrix([[630]]))"
      ]
     },
     "execution_count": 4,
     "metadata": {},
     "output_type": "execute_result"
    }
   ],
   "source": [
    "mats.sum().compute(), mats.sum(keepdims=False).compute(), mats.sum(keepdims=True).compute()"
   ]
  },
  {
   "cell_type": "markdown",
   "metadata": {
    "papermill": {
     "duration": 0.03331,
     "end_time": "2020-06-29T23:22:08.325133",
     "exception": false,
     "start_time": "2020-06-29T23:22:08.291823",
     "status": "completed"
    },
    "tags": []
   },
   "source": [
    "np.matrix, sans Dask:"
   ]
  },
  {
   "cell_type": "code",
   "execution_count": 5,
   "metadata": {
    "execution": {
     "iopub.execute_input": "2020-06-29T23:22:08.408315Z",
     "iopub.status.busy": "2020-06-29T23:22:08.405599Z",
     "iopub.status.idle": "2020-06-29T23:22:08.411292Z",
     "shell.execute_reply": "2020-06-29T23:22:08.412116Z"
    },
    "papermill": {
     "duration": 0.052509,
     "end_time": "2020-06-29T23:22:08.412522",
     "exception": false,
     "start_time": "2020-06-29T23:22:08.360013",
     "status": "completed"
    },
    "scrolled": true,
    "tags": []
   },
   "outputs": [
    {
     "data": {
      "text/plain": [
       "(630, 630, matrix([[630]]))"
      ]
     },
     "execution_count": 5,
     "metadata": {},
     "output_type": "execute_result"
    }
   ],
   "source": [
    "matsc.sum(), matsc.sum(keepdims=False), matsc.sum(keepdims=True)"
   ]
  },
  {
   "cell_type": "markdown",
   "metadata": {
    "papermill": {
     "duration": 0.021316,
     "end_time": "2020-06-29T23:22:08.462988",
     "exception": false,
     "start_time": "2020-06-29T23:22:08.441672",
     "status": "completed"
    },
    "tags": []
   },
   "source": [
    "### `axis=0`"
   ]
  },
  {
   "cell_type": "markdown",
   "metadata": {
    "papermill": {
     "duration": 0.019739,
     "end_time": "2020-06-29T23:22:08.500903",
     "exception": false,
     "start_time": "2020-06-29T23:22:08.481164",
     "status": "completed"
    },
    "tags": []
   },
   "source": [
    "Dask dense blocks:"
   ]
  },
  {
   "cell_type": "code",
   "execution_count": 6,
   "metadata": {
    "execution": {
     "iopub.execute_input": "2020-06-29T23:22:08.551610Z",
     "iopub.status.busy": "2020-06-29T23:22:08.550099Z",
     "iopub.status.idle": "2020-06-29T23:22:08.580608Z",
     "shell.execute_reply": "2020-06-29T23:22:08.578976Z"
    },
    "papermill": {
     "duration": 0.060209,
     "end_time": "2020-06-29T23:22:08.581072",
     "exception": false,
     "start_time": "2020-06-29T23:22:08.520863",
     "status": "completed"
    },
    "tags": []
   },
   "outputs": [
    {
     "data": {
      "text/plain": [
       "(array([ 90,  96, 102, 108, 114, 120]),\n",
       " array([ 90,  96, 102, 108, 114, 120]),\n",
       " array([[ 90,  96, 102, 108, 114, 120]]))"
      ]
     },
     "execution_count": 6,
     "metadata": {},
     "output_type": "execute_result"
    }
   ],
   "source": [
    "d.sum(axis=0).compute(), d.sum(axis=0, keepdims=False).compute(), d.sum(axis=0, keepdims=True).compute()"
   ]
  },
  {
   "cell_type": "markdown",
   "metadata": {
    "papermill": {
     "duration": 0.018378,
     "end_time": "2020-06-29T23:22:08.617827",
     "exception": false,
     "start_time": "2020-06-29T23:22:08.599449",
     "status": "completed"
    },
    "tags": []
   },
   "source": [
    "Dask np.matrix blocks:"
   ]
  },
  {
   "cell_type": "code",
   "execution_count": 7,
   "metadata": {
    "execution": {
     "iopub.execute_input": "2020-06-29T23:22:08.667015Z",
     "iopub.status.busy": "2020-06-29T23:22:08.665817Z",
     "iopub.status.idle": "2020-06-29T23:22:08.699582Z",
     "shell.execute_reply": "2020-06-29T23:22:08.700299Z"
    },
    "papermill": {
     "duration": 0.064821,
     "end_time": "2020-06-29T23:22:08.700513",
     "exception": false,
     "start_time": "2020-06-29T23:22:08.635692",
     "status": "completed"
    },
    "tags": []
   },
   "outputs": [
    {
     "data": {
      "text/plain": [
       "(matrix([[ 90,  96, 102, 108, 114, 120]]),\n",
       " matrix([[ 90,  96, 102, 108, 114, 120]]),\n",
       " matrix([[ 90,  96, 102, 108, 114, 120]]))"
      ]
     },
     "execution_count": 7,
     "metadata": {},
     "output_type": "execute_result"
    }
   ],
   "source": [
    "mats.sum(axis=0).compute(), mats.sum(axis=0, keepdims=False).compute(), mats.sum(axis=0, keepdims=True).compute()"
   ]
  },
  {
   "cell_type": "markdown",
   "metadata": {
    "papermill": {
     "duration": 0.018951,
     "end_time": "2020-06-29T23:22:08.736047",
     "exception": false,
     "start_time": "2020-06-29T23:22:08.717096",
     "status": "completed"
    },
    "tags": []
   },
   "source": [
    "np.matrix, sans Dask:"
   ]
  },
  {
   "cell_type": "code",
   "execution_count": 8,
   "metadata": {
    "execution": {
     "iopub.execute_input": "2020-06-29T23:22:08.781444Z",
     "iopub.status.busy": "2020-06-29T23:22:08.779480Z",
     "iopub.status.idle": "2020-06-29T23:22:08.788292Z",
     "shell.execute_reply": "2020-06-29T23:22:08.787571Z"
    },
    "papermill": {
     "duration": 0.034816,
     "end_time": "2020-06-29T23:22:08.788464",
     "exception": false,
     "start_time": "2020-06-29T23:22:08.753648",
     "status": "completed"
    },
    "tags": []
   },
   "outputs": [
    {
     "data": {
      "text/plain": [
       "(matrix([[ 90,  96, 102, 108, 114, 120]]),\n",
       " matrix([[ 90,  96, 102, 108, 114, 120]]),\n",
       " matrix([[ 90,  96, 102, 108, 114, 120]]))"
      ]
     },
     "execution_count": 8,
     "metadata": {},
     "output_type": "execute_result"
    }
   ],
   "source": [
    "matsc.sum(axis=0), matsc.sum(axis=0, keepdims=False), matsc.sum(axis=0, keepdims=True)"
   ]
  },
  {
   "cell_type": "markdown",
   "metadata": {
    "papermill": {
     "duration": 0.017706,
     "end_time": "2020-06-29T23:22:08.826044",
     "exception": false,
     "start_time": "2020-06-29T23:22:08.808338",
     "status": "completed"
    },
    "tags": []
   },
   "source": [
    "### `axis=1`"
   ]
  },
  {
   "cell_type": "markdown",
   "metadata": {
    "papermill": {
     "duration": 0.017534,
     "end_time": "2020-06-29T23:22:08.866829",
     "exception": false,
     "start_time": "2020-06-29T23:22:08.849295",
     "status": "completed"
    },
    "tags": []
   },
   "source": [
    "Dask dense blocks:"
   ]
  },
  {
   "cell_type": "code",
   "execution_count": 9,
   "metadata": {
    "execution": {
     "iopub.execute_input": "2020-06-29T23:22:08.937303Z",
     "iopub.status.busy": "2020-06-29T23:22:08.936296Z",
     "iopub.status.idle": "2020-06-29T23:22:08.966230Z",
     "shell.execute_reply": "2020-06-29T23:22:08.966706Z"
    },
    "papermill": {
     "duration": 0.070255,
     "end_time": "2020-06-29T23:22:08.966918",
     "exception": false,
     "start_time": "2020-06-29T23:22:08.896663",
     "status": "completed"
    },
    "tags": []
   },
   "outputs": [
    {
     "data": {
      "text/plain": [
       "(array([ 15,  51,  87, 123, 159, 195]),\n",
       " array([ 15,  51,  87, 123, 159, 195]),\n",
       " array([[ 15],\n",
       "        [ 51],\n",
       "        [ 87],\n",
       "        [123],\n",
       "        [159],\n",
       "        [195]]))"
      ]
     },
     "execution_count": 9,
     "metadata": {},
     "output_type": "execute_result"
    }
   ],
   "source": [
    "d.sum(axis=1).compute(), d.sum(axis=1, keepdims=False).compute(), d.sum(axis=1, keepdims=True).compute()"
   ]
  },
  {
   "cell_type": "markdown",
   "metadata": {
    "papermill": {
     "duration": 0.020367,
     "end_time": "2020-06-29T23:22:09.005547",
     "exception": false,
     "start_time": "2020-06-29T23:22:08.985180",
     "status": "completed"
    },
    "tags": []
   },
   "source": [
    "Dask np.matrix blocks:"
   ]
  },
  {
   "cell_type": "code",
   "execution_count": 10,
   "metadata": {
    "execution": {
     "iopub.execute_input": "2020-06-29T23:22:09.054672Z",
     "iopub.status.busy": "2020-06-29T23:22:09.053756Z",
     "iopub.status.idle": "2020-06-29T23:22:09.089354Z",
     "shell.execute_reply": "2020-06-29T23:22:09.088728Z"
    },
    "papermill": {
     "duration": 0.064873,
     "end_time": "2020-06-29T23:22:09.089526",
     "exception": false,
     "start_time": "2020-06-29T23:22:09.024653",
     "status": "completed"
    },
    "tags": []
   },
   "outputs": [
    {
     "data": {
      "text/plain": [
       "(matrix([[ 15],\n",
       "         [ 51],\n",
       "         [ 87],\n",
       "         [123],\n",
       "         [159],\n",
       "         [195]]),\n",
       " matrix([[ 15],\n",
       "         [ 51],\n",
       "         [ 87],\n",
       "         [123],\n",
       "         [159],\n",
       "         [195]]),\n",
       " matrix([[ 15],\n",
       "         [ 51],\n",
       "         [ 87],\n",
       "         [123],\n",
       "         [159],\n",
       "         [195]]))"
      ]
     },
     "execution_count": 10,
     "metadata": {},
     "output_type": "execute_result"
    }
   ],
   "source": [
    "mats.sum(axis=1).compute(), mats.sum(axis=1, keepdims=False).compute(), mats.sum(axis=1, keepdims=True).compute()"
   ]
  },
  {
   "cell_type": "markdown",
   "metadata": {
    "papermill": {
     "duration": 0.026121,
     "end_time": "2020-06-29T23:22:09.134557",
     "exception": false,
     "start_time": "2020-06-29T23:22:09.108436",
     "status": "completed"
    },
    "tags": []
   },
   "source": [
    "np.matrix, sans Dask:"
   ]
  },
  {
   "cell_type": "code",
   "execution_count": 11,
   "metadata": {
    "execution": {
     "iopub.execute_input": "2020-06-29T23:22:09.180937Z",
     "iopub.status.busy": "2020-06-29T23:22:09.179357Z",
     "iopub.status.idle": "2020-06-29T23:22:09.190445Z",
     "shell.execute_reply": "2020-06-29T23:22:09.189825Z"
    },
    "papermill": {
     "duration": 0.036786,
     "end_time": "2020-06-29T23:22:09.190700",
     "exception": false,
     "start_time": "2020-06-29T23:22:09.153914",
     "status": "completed"
    },
    "tags": []
   },
   "outputs": [
    {
     "data": {
      "text/plain": [
       "(matrix([[ 15],\n",
       "         [ 51],\n",
       "         [ 87],\n",
       "         [123],\n",
       "         [159],\n",
       "         [195]]),\n",
       " matrix([[ 15],\n",
       "         [ 51],\n",
       "         [ 87],\n",
       "         [123],\n",
       "         [159],\n",
       "         [195]]),\n",
       " matrix([[ 15],\n",
       "         [ 51],\n",
       "         [ 87],\n",
       "         [123],\n",
       "         [159],\n",
       "         [195]]))"
      ]
     },
     "execution_count": 11,
     "metadata": {},
     "output_type": "execute_result"
    }
   ],
   "source": [
    "matsc.sum(axis=1), matsc.sum(axis=1, keepdims=False), matsc.sum(axis=1, keepdims=True)"
   ]
  }
 ],
 "metadata": {
  "kernelspec": {
   "display_name": "celsius-dask-3.8.2",
   "language": "python",
   "name": "celsius-dask-3.8.2"
  },
  "language_info": {
   "codemirror_mode": {
    "name": "ipython",
    "version": 3
   },
   "file_extension": ".py",
   "mimetype": "text/x-python",
   "name": "python",
   "nbconvert_exporter": "python",
   "pygments_lexer": "ipython3",
   "version": "3.8.2"
  },
  "papermill": {
   "duration": 5.170464,
   "end_time": "2020-06-29T23:22:09.521690",
   "environment_variables": {},
   "exception": null,
   "input_path": "sum-test-matrix.ipynb",
   "output_path": "passed-matrix.ipynb",
   "parameters": {},
   "start_time": "2020-06-29T23:22:04.351226",
   "version": "2.1.1"
  }
 },
 "nbformat": 4,
 "nbformat_minor": 2
}
