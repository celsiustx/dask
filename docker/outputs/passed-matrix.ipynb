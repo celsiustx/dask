{
 "cells": [
  {
   "cell_type": "code",
   "execution_count": 1,
   "metadata": {
    "execution": {
     "iopub.execute_input": "2020-06-29T00:29:49.003192Z",
     "iopub.status.busy": "2020-06-29T00:29:49.002261Z",
     "iopub.status.idle": "2020-06-29T00:29:49.615223Z",
     "shell.execute_reply": "2020-06-29T00:29:49.614594Z"
    },
    "papermill": {
     "duration": 0.634968,
     "end_time": "2020-06-29T00:29:49.615389",
     "exception": false,
     "start_time": "2020-06-29T00:29:48.980421",
     "status": "completed"
    },
    "tags": []
   },
   "outputs": [
    {
     "data": {
      "text/html": [
       "<table>\n",
       "<tr>\n",
       "<td>\n",
       "<table>\n",
       "  <thead>\n",
       "    <tr><td> </td><th> Array </th><th> Chunk </th></tr>\n",
       "  </thead>\n",
       "  <tbody>\n",
       "    <tr><th> Bytes </th><td> 288 B </td> <td> 72 B </td></tr>\n",
       "    <tr><th> Shape </th><td> (6, 6) </td> <td> (3, 3) </td></tr>\n",
       "    <tr><th> Count </th><td> 5 Tasks </td><td> 4 Chunks </td></tr>\n",
       "    <tr><th> Type </th><td> int64 </td><td> numpy.ndarray </td></tr>\n",
       "  </tbody>\n",
       "</table>\n",
       "</td>\n",
       "<td>\n",
       "<svg width=\"170\" height=\"170\" style=\"stroke:rgb(0,0,0);stroke-width:1\" >\n",
       "\n",
       "  <!-- Horizontal lines -->\n",
       "  <line x1=\"0\" y1=\"0\" x2=\"120\" y2=\"0\" style=\"stroke-width:2\" />\n",
       "  <line x1=\"0\" y1=\"60\" x2=\"120\" y2=\"60\" />\n",
       "  <line x1=\"0\" y1=\"120\" x2=\"120\" y2=\"120\" style=\"stroke-width:2\" />\n",
       "\n",
       "  <!-- Vertical lines -->\n",
       "  <line x1=\"0\" y1=\"0\" x2=\"0\" y2=\"120\" style=\"stroke-width:2\" />\n",
       "  <line x1=\"60\" y1=\"0\" x2=\"60\" y2=\"120\" />\n",
       "  <line x1=\"120\" y1=\"0\" x2=\"120\" y2=\"120\" style=\"stroke-width:2\" />\n",
       "\n",
       "  <!-- Colored Rectangle -->\n",
       "  <polygon points=\"0.000000,0.000000 120.000000,0.000000 120.000000,120.000000 0.000000,120.000000\" style=\"fill:#ECB172A0;stroke-width:0\"/>\n",
       "\n",
       "  <!-- Text -->\n",
       "  <text x=\"60.000000\" y=\"140.000000\" font-size=\"1.0rem\" font-weight=\"100\" text-anchor=\"middle\" >6</text>\n",
       "  <text x=\"140.000000\" y=\"60.000000\" font-size=\"1.0rem\" font-weight=\"100\" text-anchor=\"middle\" transform=\"rotate(0,140.000000,60.000000)\">6</text>\n",
       "</svg>\n",
       "</td>\n",
       "</tr>\n",
       "</table>"
      ],
      "text/plain": [
       "dask.array<array, shape=(6, 6), dtype=int64, chunksize=(3, 3), chunktype=numpy.ndarray>"
      ]
     },
     "execution_count": 1,
     "metadata": {},
     "output_type": "execute_result"
    }
   ],
   "source": [
    "from dask.array import from_array\n",
    "from numpy import array\n",
    "\n",
    "A = array(range(36)).reshape((6,6))\n",
    "d = from_array(A, chunks=(3,3))\n",
    "d"
   ]
  },
  {
   "cell_type": "markdown",
   "metadata": {
    "papermill": {
     "duration": 0.01258,
     "end_time": "2020-06-29T00:29:49.640928",
     "exception": false,
     "start_time": "2020-06-29T00:29:49.628348",
     "status": "completed"
    },
    "tags": []
   },
   "source": [
    "## `np.matrix`"
   ]
  },
  {
   "cell_type": "code",
   "execution_count": 2,
   "metadata": {
    "execution": {
     "iopub.execute_input": "2020-06-29T00:29:49.675386Z",
     "iopub.status.busy": "2020-06-29T00:29:49.674027Z",
     "iopub.status.idle": "2020-06-29T00:29:49.680179Z",
     "shell.execute_reply": "2020-06-29T00:29:49.679461Z"
    },
    "papermill": {
     "duration": 0.02703,
     "end_time": "2020-06-29T00:29:49.680345",
     "exception": false,
     "start_time": "2020-06-29T00:29:49.653315",
     "status": "completed"
    },
    "tags": []
   },
   "outputs": [
    {
     "data": {
      "text/plain": [
       "array([[ 0,  1,  2,  3,  4,  5],\n",
       "       [ 6,  7,  8,  9, 10, 11],\n",
       "       [12, 13, 14, 15, 16, 17],\n",
       "       [18, 19, 20, 21, 22, 23],\n",
       "       [24, 25, 26, 27, 28, 29],\n",
       "       [30, 31, 32, 33, 34, 35]])"
      ]
     },
     "execution_count": 2,
     "metadata": {},
     "output_type": "execute_result"
    }
   ],
   "source": [
    "from numpy import matrix\n",
    "\n",
    "mats = d.map_blocks(matrix, chunks=(3,3))\n",
    "matsc = mats.compute(scheduler=\"synchronous\")\n",
    "matsc"
   ]
  },
  {
   "cell_type": "markdown",
   "metadata": {
    "papermill": {
     "duration": 0.012343,
     "end_time": "2020-06-29T00:29:49.705412",
     "exception": false,
     "start_time": "2020-06-29T00:29:49.693069",
     "status": "completed"
    },
    "tags": []
   },
   "source": [
    "### `axis=None`"
   ]
  },
  {
   "cell_type": "markdown",
   "metadata": {
    "papermill": {
     "duration": 0.01342,
     "end_time": "2020-06-29T00:29:49.731396",
     "exception": false,
     "start_time": "2020-06-29T00:29:49.717976",
     "status": "completed"
    },
    "tags": []
   },
   "source": [
    "Dask dense blocks:"
   ]
  },
  {
   "cell_type": "code",
   "execution_count": 3,
   "metadata": {
    "execution": {
     "iopub.execute_input": "2020-06-29T00:29:49.766751Z",
     "iopub.status.busy": "2020-06-29T00:29:49.766011Z",
     "iopub.status.idle": "2020-06-29T00:29:49.877057Z",
     "shell.execute_reply": "2020-06-29T00:29:49.876517Z"
    },
    "papermill": {
     "duration": 0.131858,
     "end_time": "2020-06-29T00:29:49.877228",
     "exception": false,
     "start_time": "2020-06-29T00:29:49.745370",
     "status": "completed"
    },
    "tags": []
   },
   "outputs": [
    {
     "data": {
      "text/plain": [
       "(630, 630, array([[630]]))"
      ]
     },
     "execution_count": 3,
     "metadata": {},
     "output_type": "execute_result"
    }
   ],
   "source": [
    "d.sum().compute(), d.sum(keepdims=False).compute(), d.sum(keepdims=True).compute()"
   ]
  },
  {
   "cell_type": "markdown",
   "metadata": {
    "papermill": {
     "duration": 0.013273,
     "end_time": "2020-06-29T00:29:49.903378",
     "exception": false,
     "start_time": "2020-06-29T00:29:49.890105",
     "status": "completed"
    },
    "tags": []
   },
   "source": [
    "Dask np.matrix blocks:"
   ]
  },
  {
   "cell_type": "code",
   "execution_count": 4,
   "metadata": {
    "execution": {
     "iopub.execute_input": "2020-06-29T00:29:49.938343Z",
     "iopub.status.busy": "2020-06-29T00:29:49.937539Z",
     "iopub.status.idle": "2020-06-29T00:29:49.961014Z",
     "shell.execute_reply": "2020-06-29T00:29:49.960297Z"
    },
    "papermill": {
     "duration": 0.04471,
     "end_time": "2020-06-29T00:29:49.961180",
     "exception": false,
     "start_time": "2020-06-29T00:29:49.916470",
     "status": "completed"
    },
    "scrolled": true,
    "tags": []
   },
   "outputs": [
    {
     "data": {
      "text/plain": [
       "(matrix([[630]]), matrix([[630]]), matrix([[630]]))"
      ]
     },
     "execution_count": 4,
     "metadata": {},
     "output_type": "execute_result"
    }
   ],
   "source": [
    "mats.sum().compute(), mats.sum(keepdims=False).compute(), mats.sum(keepdims=True).compute()"
   ]
  },
  {
   "cell_type": "markdown",
   "metadata": {
    "papermill": {
     "duration": 0.015275,
     "end_time": "2020-06-29T00:29:49.989665",
     "exception": false,
     "start_time": "2020-06-29T00:29:49.974390",
     "status": "completed"
    },
    "tags": []
   },
   "source": [
    "np.matrix, sans Dask:"
   ]
  },
  {
   "cell_type": "code",
   "execution_count": 5,
   "metadata": {
    "execution": {
     "iopub.execute_input": "2020-06-29T00:29:50.027724Z",
     "iopub.status.busy": "2020-06-29T00:29:50.027065Z",
     "iopub.status.idle": "2020-06-29T00:29:50.034148Z",
     "shell.execute_reply": "2020-06-29T00:29:50.033452Z"
    },
    "papermill": {
     "duration": 0.029421,
     "end_time": "2020-06-29T00:29:50.034319",
     "exception": false,
     "start_time": "2020-06-29T00:29:50.004898",
     "status": "completed"
    },
    "scrolled": true,
    "tags": []
   },
   "outputs": [
    {
     "data": {
      "text/plain": [
       "(630, 630, array([[630]]))"
      ]
     },
     "execution_count": 5,
     "metadata": {},
     "output_type": "execute_result"
    }
   ],
   "source": [
    "matsc.sum(), matsc.sum(keepdims=False), matsc.sum(keepdims=True)"
   ]
  },
  {
   "cell_type": "markdown",
   "metadata": {
    "papermill": {
     "duration": 0.013614,
     "end_time": "2020-06-29T00:29:50.062438",
     "exception": false,
     "start_time": "2020-06-29T00:29:50.048824",
     "status": "completed"
    },
    "tags": []
   },
   "source": [
    "### `axis=0`"
   ]
  },
  {
   "cell_type": "markdown",
   "metadata": {
    "papermill": {
     "duration": 0.013728,
     "end_time": "2020-06-29T00:29:50.090225",
     "exception": false,
     "start_time": "2020-06-29T00:29:50.076497",
     "status": "completed"
    },
    "tags": []
   },
   "source": [
    "Dask dense blocks:"
   ]
  },
  {
   "cell_type": "code",
   "execution_count": 6,
   "metadata": {
    "execution": {
     "iopub.execute_input": "2020-06-29T00:29:50.126593Z",
     "iopub.status.busy": "2020-06-29T00:29:50.125628Z",
     "iopub.status.idle": "2020-06-29T00:29:50.149031Z",
     "shell.execute_reply": "2020-06-29T00:29:50.148372Z"
    },
    "papermill": {
     "duration": 0.045147,
     "end_time": "2020-06-29T00:29:50.149194",
     "exception": false,
     "start_time": "2020-06-29T00:29:50.104047",
     "status": "completed"
    },
    "tags": []
   },
   "outputs": [
    {
     "data": {
      "text/plain": [
       "(array([ 90,  96, 102, 108, 114, 120]),\n",
       " array([ 90,  96, 102, 108, 114, 120]),\n",
       " array([[ 90,  96, 102, 108, 114, 120]]))"
      ]
     },
     "execution_count": 6,
     "metadata": {},
     "output_type": "execute_result"
    }
   ],
   "source": [
    "d.sum(axis=0).compute(), d.sum(axis=0, keepdims=False).compute(), d.sum(axis=0, keepdims=True).compute()"
   ]
  },
  {
   "cell_type": "markdown",
   "metadata": {
    "papermill": {
     "duration": 0.013985,
     "end_time": "2020-06-29T00:29:50.177357",
     "exception": false,
     "start_time": "2020-06-29T00:29:50.163372",
     "status": "completed"
    },
    "tags": []
   },
   "source": [
    "Dask np.matrix blocks:"
   ]
  },
  {
   "cell_type": "code",
   "execution_count": 7,
   "metadata": {
    "execution": {
     "iopub.execute_input": "2020-06-29T00:29:50.214369Z",
     "iopub.status.busy": "2020-06-29T00:29:50.212478Z",
     "iopub.status.idle": "2020-06-29T00:29:50.237624Z",
     "shell.execute_reply": "2020-06-29T00:29:50.238097Z"
    },
    "papermill": {
     "duration": 0.046682,
     "end_time": "2020-06-29T00:29:50.238296",
     "exception": false,
     "start_time": "2020-06-29T00:29:50.191614",
     "status": "completed"
    },
    "tags": []
   },
   "outputs": [
    {
     "name": "stdout",
     "output_type": "stream",
     "text": [
      "Forcing keepdims=True for np.matrix.sum(axis=0)\n",
      "Forcing keepdims=True for np.matrix.sum(axis=0)\n",
      "Forcing keepdims=True for np.matrix.sum(axis=0)\n"
     ]
    },
    {
     "data": {
      "text/plain": [
       "(array([[ 90,  96, 102, 108, 114, 120]]),\n",
       " array([[ 90,  96, 102, 108, 114, 120]]),\n",
       " array([[ 90,  96, 102, 108, 114, 120]]))"
      ]
     },
     "execution_count": 7,
     "metadata": {},
     "output_type": "execute_result"
    }
   ],
   "source": [
    "mats.sum(axis=0).compute(), mats.sum(axis=0, keepdims=False).compute(), mats.sum(axis=0, keepdims=True).compute()"
   ]
  },
  {
   "cell_type": "markdown",
   "metadata": {
    "papermill": {
     "duration": 0.014734,
     "end_time": "2020-06-29T00:29:50.267268",
     "exception": false,
     "start_time": "2020-06-29T00:29:50.252534",
     "status": "completed"
    },
    "tags": []
   },
   "source": [
    "np.matrix, sans Dask:"
   ]
  },
  {
   "cell_type": "code",
   "execution_count": 8,
   "metadata": {
    "execution": {
     "iopub.execute_input": "2020-06-29T00:29:50.304214Z",
     "iopub.status.busy": "2020-06-29T00:29:50.303524Z",
     "iopub.status.idle": "2020-06-29T00:29:50.309014Z",
     "shell.execute_reply": "2020-06-29T00:29:50.309630Z"
    },
    "papermill": {
     "duration": 0.027879,
     "end_time": "2020-06-29T00:29:50.310017",
     "exception": false,
     "start_time": "2020-06-29T00:29:50.282138",
     "status": "completed"
    },
    "tags": []
   },
   "outputs": [
    {
     "data": {
      "text/plain": [
       "(array([ 90,  96, 102, 108, 114, 120]),\n",
       " array([ 90,  96, 102, 108, 114, 120]),\n",
       " array([[ 90,  96, 102, 108, 114, 120]]))"
      ]
     },
     "execution_count": 8,
     "metadata": {},
     "output_type": "execute_result"
    }
   ],
   "source": [
    "matsc.sum(axis=0), matsc.sum(axis=0, keepdims=False), matsc.sum(axis=0, keepdims=True)"
   ]
  },
  {
   "cell_type": "markdown",
   "metadata": {
    "papermill": {
     "duration": 0.015235,
     "end_time": "2020-06-29T00:29:50.340079",
     "exception": false,
     "start_time": "2020-06-29T00:29:50.324844",
     "status": "completed"
    },
    "tags": []
   },
   "source": [
    "### `axis=1`"
   ]
  },
  {
   "cell_type": "markdown",
   "metadata": {
    "papermill": {
     "duration": 0.015034,
     "end_time": "2020-06-29T00:29:50.370319",
     "exception": false,
     "start_time": "2020-06-29T00:29:50.355285",
     "status": "completed"
    },
    "tags": []
   },
   "source": [
    "Dask dense blocks:"
   ]
  },
  {
   "cell_type": "code",
   "execution_count": 9,
   "metadata": {
    "execution": {
     "iopub.execute_input": "2020-06-29T00:29:50.413610Z",
     "iopub.status.busy": "2020-06-29T00:29:50.412965Z",
     "iopub.status.idle": "2020-06-29T00:29:50.435633Z",
     "shell.execute_reply": "2020-06-29T00:29:50.436123Z"
    },
    "papermill": {
     "duration": 0.0497,
     "end_time": "2020-06-29T00:29:50.436318",
     "exception": false,
     "start_time": "2020-06-29T00:29:50.386618",
     "status": "completed"
    },
    "tags": []
   },
   "outputs": [
    {
     "data": {
      "text/plain": [
       "(array([ 15,  51,  87, 123, 159, 195]),\n",
       " array([ 15,  51,  87, 123, 159, 195]),\n",
       " array([[ 15],\n",
       "        [ 51],\n",
       "        [ 87],\n",
       "        [123],\n",
       "        [159],\n",
       "        [195]]))"
      ]
     },
     "execution_count": 9,
     "metadata": {},
     "output_type": "execute_result"
    }
   ],
   "source": [
    "d.sum(axis=1).compute(), d.sum(axis=1, keepdims=False).compute(), d.sum(axis=1, keepdims=True).compute()"
   ]
  },
  {
   "cell_type": "markdown",
   "metadata": {
    "papermill": {
     "duration": 0.016233,
     "end_time": "2020-06-29T00:29:50.469015",
     "exception": false,
     "start_time": "2020-06-29T00:29:50.452782",
     "status": "completed"
    },
    "tags": []
   },
   "source": [
    "Dask np.matrix blocks:"
   ]
  },
  {
   "cell_type": "code",
   "execution_count": 10,
   "metadata": {
    "execution": {
     "iopub.execute_input": "2020-06-29T00:29:50.513179Z",
     "iopub.status.busy": "2020-06-29T00:29:50.512370Z",
     "iopub.status.idle": "2020-06-29T00:29:50.538548Z",
     "shell.execute_reply": "2020-06-29T00:29:50.538073Z"
    },
    "papermill": {
     "duration": 0.053428,
     "end_time": "2020-06-29T00:29:50.538724",
     "exception": false,
     "start_time": "2020-06-29T00:29:50.485296",
     "status": "completed"
    },
    "tags": []
   },
   "outputs": [
    {
     "name": "stdout",
     "output_type": "stream",
     "text": [
      "Forcing keepdims=True for np.matrix.sum(axis=1)\n",
      "Forcing keepdims=True for np.matrix.sum(axis=1)\n",
      "Forcing keepdims=True for np.matrix.sum(axis=1)\n"
     ]
    },
    {
     "data": {
      "text/plain": [
       "(array([[ 15],\n",
       "        [ 51],\n",
       "        [ 87],\n",
       "        [123],\n",
       "        [159],\n",
       "        [195]]),\n",
       " array([[ 15],\n",
       "        [ 51],\n",
       "        [ 87],\n",
       "        [123],\n",
       "        [159],\n",
       "        [195]]),\n",
       " array([[ 15],\n",
       "        [ 51],\n",
       "        [ 87],\n",
       "        [123],\n",
       "        [159],\n",
       "        [195]]))"
      ]
     },
     "execution_count": 10,
     "metadata": {},
     "output_type": "execute_result"
    }
   ],
   "source": [
    "mats.sum(axis=1).compute(), mats.sum(axis=1, keepdims=False).compute(), mats.sum(axis=1, keepdims=True).compute()"
   ]
  },
  {
   "cell_type": "markdown",
   "metadata": {
    "papermill": {
     "duration": 0.017618,
     "end_time": "2020-06-29T00:29:50.573580",
     "exception": false,
     "start_time": "2020-06-29T00:29:50.555962",
     "status": "completed"
    },
    "tags": []
   },
   "source": [
    "np.matrix, sans Dask:"
   ]
  },
  {
   "cell_type": "code",
   "execution_count": 11,
   "metadata": {
    "execution": {
     "iopub.execute_input": "2020-06-29T00:29:50.614854Z",
     "iopub.status.busy": "2020-06-29T00:29:50.614130Z",
     "iopub.status.idle": "2020-06-29T00:29:50.619383Z",
     "shell.execute_reply": "2020-06-29T00:29:50.619827Z"
    },
    "papermill": {
     "duration": 0.029056,
     "end_time": "2020-06-29T00:29:50.620113",
     "exception": false,
     "start_time": "2020-06-29T00:29:50.591057",
     "status": "completed"
    },
    "tags": []
   },
   "outputs": [
    {
     "data": {
      "text/plain": [
       "(array([ 15,  51,  87, 123, 159, 195]),\n",
       " array([ 15,  51,  87, 123, 159, 195]),\n",
       " array([[ 15],\n",
       "        [ 51],\n",
       "        [ 87],\n",
       "        [123],\n",
       "        [159],\n",
       "        [195]]))"
      ]
     },
     "execution_count": 11,
     "metadata": {},
     "output_type": "execute_result"
    }
   ],
   "source": [
    "matsc.sum(axis=1), matsc.sum(axis=1, keepdims=False), matsc.sum(axis=1, keepdims=True)"
   ]
  }
 ],
 "metadata": {
  "kernelspec": {
   "display_name": "celsius-dask-3.8.2",
   "language": "python",
   "name": "celsius-dask-3.8.2"
  },
  "language_info": {
   "codemirror_mode": {
    "name": "ipython",
    "version": 3
   },
   "file_extension": ".py",
   "mimetype": "text/x-python",
   "name": "python",
   "nbconvert_exporter": "python",
   "pygments_lexer": "ipython3",
   "version": "3.8.2"
  },
  "papermill": {
   "duration": 3.48624,
   "end_time": "2020-06-29T00:29:50.947052",
   "environment_variables": {},
   "exception": null,
   "input_path": "sum-test-matrix.ipynb",
   "output_path": "passed-matrix.ipynb",
   "parameters": {},
   "start_time": "2020-06-29T00:29:47.460812",
   "version": "2.1.1"
  }
 },
 "nbformat": 4,
 "nbformat_minor": 2
}
