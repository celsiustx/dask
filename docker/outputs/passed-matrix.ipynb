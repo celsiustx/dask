{
 "cells": [
  {
   "cell_type": "code",
   "execution_count": 1,
   "metadata": {
    "execution": {
     "iopub.execute_input": "2020-07-01T21:57:16.300755Z",
     "iopub.status.busy": "2020-07-01T21:57:16.299016Z",
     "iopub.status.idle": "2020-07-01T21:57:17.142609Z",
     "shell.execute_reply": "2020-07-01T21:57:17.141642Z"
    },
    "papermill": {
     "duration": 0.869778,
     "end_time": "2020-07-01T21:57:17.142785",
     "exception": false,
     "start_time": "2020-07-01T21:57:16.273007",
     "status": "completed"
    },
    "tags": []
   },
   "outputs": [
    {
     "data": {
      "text/html": [
       "<table>\n",
       "<tr>\n",
       "<td>\n",
       "<table>\n",
       "  <thead>\n",
       "    <tr><td> </td><th> Array </th><th> Chunk </th></tr>\n",
       "  </thead>\n",
       "  <tbody>\n",
       "    <tr><th> Bytes </th><td> 288 B </td> <td> 72 B </td></tr>\n",
       "    <tr><th> Shape </th><td> (6, 6) </td> <td> (3, 3) </td></tr>\n",
       "    <tr><th> Count </th><td> 5 Tasks </td><td> 4 Chunks </td></tr>\n",
       "    <tr><th> Type </th><td> int64 </td><td> numpy.ndarray </td></tr>\n",
       "  </tbody>\n",
       "</table>\n",
       "</td>\n",
       "<td>\n",
       "<svg width=\"170\" height=\"170\" style=\"stroke:rgb(0,0,0);stroke-width:1\" >\n",
       "\n",
       "  <!-- Horizontal lines -->\n",
       "  <line x1=\"0\" y1=\"0\" x2=\"120\" y2=\"0\" style=\"stroke-width:2\" />\n",
       "  <line x1=\"0\" y1=\"60\" x2=\"120\" y2=\"60\" />\n",
       "  <line x1=\"0\" y1=\"120\" x2=\"120\" y2=\"120\" style=\"stroke-width:2\" />\n",
       "\n",
       "  <!-- Vertical lines -->\n",
       "  <line x1=\"0\" y1=\"0\" x2=\"0\" y2=\"120\" style=\"stroke-width:2\" />\n",
       "  <line x1=\"60\" y1=\"0\" x2=\"60\" y2=\"120\" />\n",
       "  <line x1=\"120\" y1=\"0\" x2=\"120\" y2=\"120\" style=\"stroke-width:2\" />\n",
       "\n",
       "  <!-- Colored Rectangle -->\n",
       "  <polygon points=\"0.000000,0.000000 120.000000,0.000000 120.000000,120.000000 0.000000,120.000000\" style=\"fill:#ECB172A0;stroke-width:0\"/>\n",
       "\n",
       "  <!-- Text -->\n",
       "  <text x=\"60.000000\" y=\"140.000000\" font-size=\"1.0rem\" font-weight=\"100\" text-anchor=\"middle\" >6</text>\n",
       "  <text x=\"140.000000\" y=\"60.000000\" font-size=\"1.0rem\" font-weight=\"100\" text-anchor=\"middle\" transform=\"rotate(0,140.000000,60.000000)\">6</text>\n",
       "</svg>\n",
       "</td>\n",
       "</tr>\n",
       "</table>"
      ],
      "text/plain": [
       "dask.array<array, shape=(6, 6), dtype=int64, chunksize=(3, 3), chunktype=numpy.ndarray>"
      ]
     },
     "execution_count": 1,
     "metadata": {},
     "output_type": "execute_result"
    }
   ],
   "source": [
    "from dask.array import from_array\n",
    "from numpy import array\n",
    "\n",
    "A = array(range(36)).reshape((6,6))\n",
    "d = from_array(A, chunks=(3,3))\n",
    "d"
   ]
  },
  {
   "cell_type": "markdown",
   "metadata": {
    "papermill": {
     "duration": 0.012218,
     "end_time": "2020-07-01T21:57:17.167658",
     "exception": false,
     "start_time": "2020-07-01T21:57:17.155440",
     "status": "completed"
    },
    "tags": []
   },
   "source": [
    "## `np.matrix`"
   ]
  },
  {
   "cell_type": "code",
   "execution_count": 2,
   "metadata": {
    "execution": {
     "iopub.execute_input": "2020-07-01T21:57:17.203818Z",
     "iopub.status.busy": "2020-07-01T21:57:17.202547Z",
     "iopub.status.idle": "2020-07-01T21:57:17.207021Z",
     "shell.execute_reply": "2020-07-01T21:57:17.206480Z"
    },
    "papermill": {
     "duration": 0.026968,
     "end_time": "2020-07-01T21:57:17.207259",
     "exception": false,
     "start_time": "2020-07-01T21:57:17.180291",
     "status": "completed"
    },
    "tags": []
   },
   "outputs": [
    {
     "data": {
      "text/plain": [
       "matrix([[ 0,  1,  2,  3,  4,  5],\n",
       "        [ 6,  7,  8,  9, 10, 11],\n",
       "        [12, 13, 14, 15, 16, 17],\n",
       "        [18, 19, 20, 21, 22, 23],\n",
       "        [24, 25, 26, 27, 28, 29],\n",
       "        [30, 31, 32, 33, 34, 35]])"
      ]
     },
     "execution_count": 2,
     "metadata": {},
     "output_type": "execute_result"
    }
   ],
   "source": [
    "from numpy import matrix\n",
    "\n",
    "mats = d.map_blocks(matrix, chunks=(3,3))\n",
    "matsc = mats.compute(scheduler=\"synchronous\")\n",
    "matsc"
   ]
  },
  {
   "cell_type": "markdown",
   "metadata": {
    "papermill": {
     "duration": 0.012399,
     "end_time": "2020-07-01T21:57:17.231739",
     "exception": false,
     "start_time": "2020-07-01T21:57:17.219340",
     "status": "completed"
    },
    "tags": []
   },
   "source": [
    "### `axis=None`"
   ]
  },
  {
   "cell_type": "markdown",
   "metadata": {
    "papermill": {
     "duration": 0.01278,
     "end_time": "2020-07-01T21:57:17.258368",
     "exception": false,
     "start_time": "2020-07-01T21:57:17.245588",
     "status": "completed"
    },
    "tags": []
   },
   "source": [
    "Dask dense blocks:"
   ]
  },
  {
   "cell_type": "code",
   "execution_count": 3,
   "metadata": {
    "execution": {
     "iopub.execute_input": "2020-07-01T21:57:17.293158Z",
     "iopub.status.busy": "2020-07-01T21:57:17.291949Z",
     "iopub.status.idle": "2020-07-01T21:57:17.446252Z",
     "shell.execute_reply": "2020-07-01T21:57:17.445692Z"
    },
    "papermill": {
     "duration": 0.175529,
     "end_time": "2020-07-01T21:57:17.446428",
     "exception": false,
     "start_time": "2020-07-01T21:57:17.270899",
     "status": "completed"
    },
    "tags": []
   },
   "outputs": [
    {
     "data": {
      "text/plain": [
       "(630, 630, array([[630]]))"
      ]
     },
     "execution_count": 3,
     "metadata": {},
     "output_type": "execute_result"
    }
   ],
   "source": [
    "d.sum().compute(), d.sum(keepdims=False).compute(), d.sum(keepdims=True).compute()"
   ]
  },
  {
   "cell_type": "markdown",
   "metadata": {
    "papermill": {
     "duration": 0.013034,
     "end_time": "2020-07-01T21:57:17.472110",
     "exception": false,
     "start_time": "2020-07-01T21:57:17.459076",
     "status": "completed"
    },
    "tags": []
   },
   "source": [
    "Dask np.matrix blocks:"
   ]
  },
  {
   "cell_type": "code",
   "execution_count": 4,
   "metadata": {
    "execution": {
     "iopub.execute_input": "2020-07-01T21:57:17.509845Z",
     "iopub.status.busy": "2020-07-01T21:57:17.507480Z",
     "iopub.status.idle": "2020-07-01T21:57:17.526782Z",
     "shell.execute_reply": "2020-07-01T21:57:17.525927Z"
    },
    "papermill": {
     "duration": 0.041733,
     "end_time": "2020-07-01T21:57:17.527043",
     "exception": false,
     "start_time": "2020-07-01T21:57:17.485310",
     "status": "completed"
    },
    "scrolled": true,
    "tags": []
   },
   "outputs": [
    {
     "data": {
      "text/plain": [
       "(630, 630, matrix([[630]]))"
      ]
     },
     "execution_count": 4,
     "metadata": {},
     "output_type": "execute_result"
    }
   ],
   "source": [
    "mats.sum().compute(), mats.sum(keepdims=False).compute(), mats.sum(keepdims=True).compute()"
   ]
  },
  {
   "cell_type": "markdown",
   "metadata": {
    "papermill": {
     "duration": 0.013767,
     "end_time": "2020-07-01T21:57:17.555666",
     "exception": false,
     "start_time": "2020-07-01T21:57:17.541899",
     "status": "completed"
    },
    "tags": []
   },
   "source": [
    "np.matrix, sans Dask:"
   ]
  },
  {
   "cell_type": "code",
   "execution_count": 5,
   "metadata": {
    "execution": {
     "iopub.execute_input": "2020-07-01T21:57:17.591371Z",
     "iopub.status.busy": "2020-07-01T21:57:17.590550Z",
     "iopub.status.idle": "2020-07-01T21:57:17.596712Z",
     "shell.execute_reply": "2020-07-01T21:57:17.595876Z"
    },
    "papermill": {
     "duration": 0.02684,
     "end_time": "2020-07-01T21:57:17.596900",
     "exception": false,
     "start_time": "2020-07-01T21:57:17.570060",
     "status": "completed"
    },
    "scrolled": true,
    "tags": []
   },
   "outputs": [
    {
     "data": {
      "text/plain": [
       "(630, 630, matrix([[630]]))"
      ]
     },
     "execution_count": 5,
     "metadata": {},
     "output_type": "execute_result"
    }
   ],
   "source": [
    "matsc.sum(), matsc.sum(keepdims=False), matsc.sum(keepdims=True)"
   ]
  },
  {
   "cell_type": "markdown",
   "metadata": {
    "papermill": {
     "duration": 0.014254,
     "end_time": "2020-07-01T21:57:17.625506",
     "exception": false,
     "start_time": "2020-07-01T21:57:17.611252",
     "status": "completed"
    },
    "tags": []
   },
   "source": [
    "### `axis=0`"
   ]
  },
  {
   "cell_type": "markdown",
   "metadata": {
    "papermill": {
     "duration": 0.014894,
     "end_time": "2020-07-01T21:57:17.654415",
     "exception": false,
     "start_time": "2020-07-01T21:57:17.639521",
     "status": "completed"
    },
    "tags": []
   },
   "source": [
    "Dask dense blocks:"
   ]
  },
  {
   "cell_type": "code",
   "execution_count": 6,
   "metadata": {
    "execution": {
     "iopub.execute_input": "2020-07-01T21:57:17.692256Z",
     "iopub.status.busy": "2020-07-01T21:57:17.690826Z",
     "iopub.status.idle": "2020-07-01T21:57:17.710203Z",
     "shell.execute_reply": "2020-07-01T21:57:17.709613Z"
    },
    "papermill": {
     "duration": 0.041675,
     "end_time": "2020-07-01T21:57:17.710380",
     "exception": false,
     "start_time": "2020-07-01T21:57:17.668705",
     "status": "completed"
    },
    "tags": []
   },
   "outputs": [
    {
     "data": {
      "text/plain": [
       "(array([ 90,  96, 102, 108, 114, 120]),\n",
       " array([ 90,  96, 102, 108, 114, 120]),\n",
       " array([[ 90,  96, 102, 108, 114, 120]]))"
      ]
     },
     "execution_count": 6,
     "metadata": {},
     "output_type": "execute_result"
    }
   ],
   "source": [
    "d.sum(axis=0).compute(), d.sum(axis=0, keepdims=False).compute(), d.sum(axis=0, keepdims=True).compute()"
   ]
  },
  {
   "cell_type": "markdown",
   "metadata": {
    "papermill": {
     "duration": 0.014983,
     "end_time": "2020-07-01T21:57:17.740147",
     "exception": false,
     "start_time": "2020-07-01T21:57:17.725164",
     "status": "completed"
    },
    "tags": []
   },
   "source": [
    "Dask np.matrix blocks:"
   ]
  },
  {
   "cell_type": "code",
   "execution_count": 7,
   "metadata": {
    "execution": {
     "iopub.execute_input": "2020-07-01T21:57:17.780764Z",
     "iopub.status.busy": "2020-07-01T21:57:17.779454Z",
     "iopub.status.idle": "2020-07-01T21:57:17.801610Z",
     "shell.execute_reply": "2020-07-01T21:57:17.800870Z"
    },
    "papermill": {
     "duration": 0.046753,
     "end_time": "2020-07-01T21:57:17.801785",
     "exception": false,
     "start_time": "2020-07-01T21:57:17.755032",
     "status": "completed"
    },
    "tags": []
   },
   "outputs": [
    {
     "data": {
      "text/plain": [
       "(matrix([[ 90,  96, 102, 108, 114, 120]]),\n",
       " matrix([[ 90,  96, 102, 108, 114, 120]]),\n",
       " matrix([[ 90,  96, 102, 108, 114, 120]]))"
      ]
     },
     "execution_count": 7,
     "metadata": {},
     "output_type": "execute_result"
    }
   ],
   "source": [
    "mats.sum(axis=0).compute(), mats.sum(axis=0, keepdims=False).compute(), mats.sum(axis=0, keepdims=True).compute()"
   ]
  },
  {
   "cell_type": "markdown",
   "metadata": {
    "papermill": {
     "duration": 0.014549,
     "end_time": "2020-07-01T21:57:17.832280",
     "exception": false,
     "start_time": "2020-07-01T21:57:17.817731",
     "status": "completed"
    },
    "tags": []
   },
   "source": [
    "np.matrix, sans Dask:"
   ]
  },
  {
   "cell_type": "code",
   "execution_count": 8,
   "metadata": {
    "execution": {
     "iopub.execute_input": "2020-07-01T21:57:17.871602Z",
     "iopub.status.busy": "2020-07-01T21:57:17.870582Z",
     "iopub.status.idle": "2020-07-01T21:57:17.875505Z",
     "shell.execute_reply": "2020-07-01T21:57:17.875998Z"
    },
    "papermill": {
     "duration": 0.028017,
     "end_time": "2020-07-01T21:57:17.876309",
     "exception": false,
     "start_time": "2020-07-01T21:57:17.848292",
     "status": "completed"
    },
    "tags": []
   },
   "outputs": [
    {
     "data": {
      "text/plain": [
       "(matrix([[ 90,  96, 102, 108, 114, 120]]),\n",
       " matrix([[ 90,  96, 102, 108, 114, 120]]),\n",
       " matrix([[ 90,  96, 102, 108, 114, 120]]))"
      ]
     },
     "execution_count": 8,
     "metadata": {},
     "output_type": "execute_result"
    }
   ],
   "source": [
    "matsc.sum(axis=0), matsc.sum(axis=0, keepdims=False), matsc.sum(axis=0, keepdims=True)"
   ]
  },
  {
   "cell_type": "markdown",
   "metadata": {
    "papermill": {
     "duration": 0.015163,
     "end_time": "2020-07-01T21:57:17.907138",
     "exception": false,
     "start_time": "2020-07-01T21:57:17.891975",
     "status": "completed"
    },
    "tags": []
   },
   "source": [
    "### `axis=1`"
   ]
  },
  {
   "cell_type": "markdown",
   "metadata": {
    "papermill": {
     "duration": 0.015491,
     "end_time": "2020-07-01T21:57:17.937856",
     "exception": false,
     "start_time": "2020-07-01T21:57:17.922365",
     "status": "completed"
    },
    "tags": []
   },
   "source": [
    "Dask dense blocks:"
   ]
  },
  {
   "cell_type": "code",
   "execution_count": 9,
   "metadata": {
    "execution": {
     "iopub.execute_input": "2020-07-01T21:57:17.979763Z",
     "iopub.status.busy": "2020-07-01T21:57:17.978020Z",
     "iopub.status.idle": "2020-07-01T21:57:17.995354Z",
     "shell.execute_reply": "2020-07-01T21:57:17.996053Z"
    },
    "papermill": {
     "duration": 0.042741,
     "end_time": "2020-07-01T21:57:17.996296",
     "exception": false,
     "start_time": "2020-07-01T21:57:17.953555",
     "status": "completed"
    },
    "tags": []
   },
   "outputs": [
    {
     "data": {
      "text/plain": [
       "(array([ 15,  51,  87, 123, 159, 195]),\n",
       " array([ 15,  51,  87, 123, 159, 195]),\n",
       " array([[ 15],\n",
       "        [ 51],\n",
       "        [ 87],\n",
       "        [123],\n",
       "        [159],\n",
       "        [195]]))"
      ]
     },
     "execution_count": 9,
     "metadata": {},
     "output_type": "execute_result"
    }
   ],
   "source": [
    "d.sum(axis=1).compute(), d.sum(axis=1, keepdims=False).compute(), d.sum(axis=1, keepdims=True).compute()"
   ]
  },
  {
   "cell_type": "markdown",
   "metadata": {
    "papermill": {
     "duration": 0.016185,
     "end_time": "2020-07-01T21:57:18.028098",
     "exception": false,
     "start_time": "2020-07-01T21:57:18.011913",
     "status": "completed"
    },
    "tags": []
   },
   "source": [
    "Dask np.matrix blocks:"
   ]
  },
  {
   "cell_type": "code",
   "execution_count": 10,
   "metadata": {
    "execution": {
     "iopub.execute_input": "2020-07-01T21:57:18.063860Z",
     "iopub.status.busy": "2020-07-01T21:57:18.063210Z",
     "iopub.status.idle": "2020-07-01T21:57:18.094744Z",
     "shell.execute_reply": "2020-07-01T21:57:18.094275Z"
    },
    "papermill": {
     "duration": 0.050507,
     "end_time": "2020-07-01T21:57:18.094941",
     "exception": false,
     "start_time": "2020-07-01T21:57:18.044434",
     "status": "completed"
    },
    "tags": []
   },
   "outputs": [
    {
     "data": {
      "text/plain": [
       "(matrix([[ 15],\n",
       "         [ 51],\n",
       "         [ 87],\n",
       "         [123],\n",
       "         [159],\n",
       "         [195]]),\n",
       " matrix([[ 15],\n",
       "         [ 51],\n",
       "         [ 87],\n",
       "         [123],\n",
       "         [159],\n",
       "         [195]]),\n",
       " matrix([[ 15],\n",
       "         [ 51],\n",
       "         [ 87],\n",
       "         [123],\n",
       "         [159],\n",
       "         [195]]))"
      ]
     },
     "execution_count": 10,
     "metadata": {},
     "output_type": "execute_result"
    }
   ],
   "source": [
    "mats.sum(axis=1).compute(), mats.sum(axis=1, keepdims=False).compute(), mats.sum(axis=1, keepdims=True).compute()"
   ]
  },
  {
   "cell_type": "markdown",
   "metadata": {
    "papermill": {
     "duration": 0.01633,
     "end_time": "2020-07-01T21:57:18.127553",
     "exception": false,
     "start_time": "2020-07-01T21:57:18.111223",
     "status": "completed"
    },
    "tags": []
   },
   "source": [
    "np.matrix, sans Dask:"
   ]
  },
  {
   "cell_type": "code",
   "execution_count": 11,
   "metadata": {
    "execution": {
     "iopub.execute_input": "2020-07-01T21:57:18.166995Z",
     "iopub.status.busy": "2020-07-01T21:57:18.166123Z",
     "iopub.status.idle": "2020-07-01T21:57:18.172205Z",
     "shell.execute_reply": "2020-07-01T21:57:18.172626Z"
    },
    "papermill": {
     "duration": 0.028995,
     "end_time": "2020-07-01T21:57:18.172844",
     "exception": false,
     "start_time": "2020-07-01T21:57:18.143849",
     "status": "completed"
    },
    "tags": []
   },
   "outputs": [
    {
     "data": {
      "text/plain": [
       "(matrix([[ 15],\n",
       "         [ 51],\n",
       "         [ 87],\n",
       "         [123],\n",
       "         [159],\n",
       "         [195]]),\n",
       " matrix([[ 15],\n",
       "         [ 51],\n",
       "         [ 87],\n",
       "         [123],\n",
       "         [159],\n",
       "         [195]]),\n",
       " matrix([[ 15],\n",
       "         [ 51],\n",
       "         [ 87],\n",
       "         [123],\n",
       "         [159],\n",
       "         [195]]))"
      ]
     },
     "execution_count": 11,
     "metadata": {},
     "output_type": "execute_result"
    }
   ],
   "source": [
    "matsc.sum(axis=1), matsc.sum(axis=1, keepdims=False), matsc.sum(axis=1, keepdims=True)"
   ]
  }
 ],
 "metadata": {
  "kernelspec": {
   "display_name": "3.8.2",
   "language": "python",
   "name": "3.8.2"
  },
  "language_info": {
   "codemirror_mode": {
    "name": "ipython",
    "version": 3
   },
   "file_extension": ".py",
   "mimetype": "text/x-python",
   "name": "python",
   "nbconvert_exporter": "python",
   "pygments_lexer": "ipython3",
   "version": "3.7.7"
  },
  "papermill": {
   "duration": 3.728493,
   "end_time": "2020-07-01T21:57:18.505511",
   "environment_variables": {},
   "exception": null,
   "input_path": "sum-test-matrix.ipynb",
   "output_path": "passed-matrix.ipynb",
   "parameters": {},
   "start_time": "2020-07-01T21:57:14.777018",
   "version": "2.1.2"
  }
 },
 "nbformat": 4,
 "nbformat_minor": 2
}