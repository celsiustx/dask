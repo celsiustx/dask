{
 "cells": [
  {
   "cell_type": "code",
   "execution_count": 1,
   "metadata": {
    "execution": {
     "iopub.execute_input": "2020-06-29T23:22:11.665349Z",
     "iopub.status.busy": "2020-06-29T23:22:11.664036Z",
     "iopub.status.idle": "2020-06-29T23:22:12.057250Z",
     "shell.execute_reply": "2020-06-29T23:22:12.056398Z"
    },
    "papermill": {
     "duration": 0.41635,
     "end_time": "2020-06-29T23:22:12.057421",
     "exception": false,
     "start_time": "2020-06-29T23:22:11.641071",
     "status": "completed"
    },
    "tags": []
   },
   "outputs": [
    {
     "data": {
      "text/html": [
       "<table>\n",
       "<tr>\n",
       "<td>\n",
       "<table>\n",
       "  <thead>\n",
       "    <tr><td> </td><th> Array </th><th> Chunk </th></tr>\n",
       "  </thead>\n",
       "  <tbody>\n",
       "    <tr><th> Bytes </th><td> 288 B </td> <td> 72 B </td></tr>\n",
       "    <tr><th> Shape </th><td> (6, 6) </td> <td> (3, 3) </td></tr>\n",
       "    <tr><th> Count </th><td> 5 Tasks </td><td> 4 Chunks </td></tr>\n",
       "    <tr><th> Type </th><td> int64 </td><td> numpy.ndarray </td></tr>\n",
       "  </tbody>\n",
       "</table>\n",
       "</td>\n",
       "<td>\n",
       "<svg width=\"170\" height=\"170\" style=\"stroke:rgb(0,0,0);stroke-width:1\" >\n",
       "\n",
       "  <!-- Horizontal lines -->\n",
       "  <line x1=\"0\" y1=\"0\" x2=\"120\" y2=\"0\" style=\"stroke-width:2\" />\n",
       "  <line x1=\"0\" y1=\"60\" x2=\"120\" y2=\"60\" />\n",
       "  <line x1=\"0\" y1=\"120\" x2=\"120\" y2=\"120\" style=\"stroke-width:2\" />\n",
       "\n",
       "  <!-- Vertical lines -->\n",
       "  <line x1=\"0\" y1=\"0\" x2=\"0\" y2=\"120\" style=\"stroke-width:2\" />\n",
       "  <line x1=\"60\" y1=\"0\" x2=\"60\" y2=\"120\" />\n",
       "  <line x1=\"120\" y1=\"0\" x2=\"120\" y2=\"120\" style=\"stroke-width:2\" />\n",
       "\n",
       "  <!-- Colored Rectangle -->\n",
       "  <polygon points=\"0.000000,0.000000 120.000000,0.000000 120.000000,120.000000 0.000000,120.000000\" style=\"fill:#ECB172A0;stroke-width:0\"/>\n",
       "\n",
       "  <!-- Text -->\n",
       "  <text x=\"60.000000\" y=\"140.000000\" font-size=\"1.0rem\" font-weight=\"100\" text-anchor=\"middle\" >6</text>\n",
       "  <text x=\"140.000000\" y=\"60.000000\" font-size=\"1.0rem\" font-weight=\"100\" text-anchor=\"middle\" transform=\"rotate(0,140.000000,60.000000)\">6</text>\n",
       "</svg>\n",
       "</td>\n",
       "</tr>\n",
       "</table>"
      ],
      "text/plain": [
       "dask.array<array, shape=(6, 6), dtype=int64, chunksize=(3, 3), chunktype=numpy.ndarray>"
      ]
     },
     "execution_count": 1,
     "metadata": {},
     "output_type": "execute_result"
    }
   ],
   "source": [
    "from dask.array import from_array\n",
    "from numpy import array\n",
    "\n",
    "A = array(range(36)).reshape((6,6))\n",
    "d = from_array(A, chunks=(3,3))\n",
    "d"
   ]
  },
  {
   "cell_type": "markdown",
   "metadata": {
    "papermill": {
     "duration": 0.012658,
     "end_time": "2020-06-29T23:22:12.083636",
     "exception": false,
     "start_time": "2020-06-29T23:22:12.070978",
     "status": "completed"
    },
    "tags": []
   },
   "source": [
    "## `scipy.sparse`"
   ]
  },
  {
   "cell_type": "code",
   "execution_count": 2,
   "metadata": {
    "execution": {
     "iopub.execute_input": "2020-06-29T23:22:12.124141Z",
     "iopub.status.busy": "2020-06-29T23:22:12.123388Z",
     "iopub.status.idle": "2020-06-29T23:22:12.263080Z",
     "shell.execute_reply": "2020-06-29T23:22:12.262390Z"
    },
    "papermill": {
     "duration": 0.165395,
     "end_time": "2020-06-29T23:22:12.263252",
     "exception": false,
     "start_time": "2020-06-29T23:22:12.097857",
     "status": "completed"
    },
    "tags": []
   },
   "outputs": [
    {
     "data": {
      "text/plain": [
       "<6x6 sparse matrix of type '<class 'numpy.longlong'>'\n",
       "\twith 35 stored elements in COOrdinate format>"
      ]
     },
     "execution_count": 2,
     "metadata": {},
     "output_type": "execute_result"
    }
   ],
   "source": [
    "from scipy.sparse import spmatrix, coo_matrix, csr_matrix, csc_matrix, dia_matrix\n",
    "\n",
    "sps = d.map_blocks(coo_matrix, chunks=(3,3))\n",
    "spsc = sps.compute(scheduler=\"synchronous\")\n",
    "spsc"
   ]
  },
  {
   "cell_type": "code",
   "execution_count": 3,
   "metadata": {
    "execution": {
     "iopub.execute_input": "2020-06-29T23:22:12.304099Z",
     "iopub.status.busy": "2020-06-29T23:22:12.303052Z",
     "iopub.status.idle": "2020-06-29T23:22:12.310897Z",
     "shell.execute_reply": "2020-06-29T23:22:12.310170Z"
    },
    "papermill": {
     "duration": 0.029234,
     "end_time": "2020-06-29T23:22:12.311058",
     "exception": false,
     "start_time": "2020-06-29T23:22:12.281824",
     "status": "completed"
    },
    "tags": []
   },
   "outputs": [
    {
     "data": {
      "text/plain": [
       "matrix([[ 0,  1,  2,  3,  4,  5],\n",
       "        [ 6,  7,  8,  9, 10, 11],\n",
       "        [12, 13, 14, 15, 16, 17],\n",
       "        [18, 19, 20, 21, 22, 23],\n",
       "        [24, 25, 26, 27, 28, 29],\n",
       "        [30, 31, 32, 33, 34, 35]], dtype=int64)"
      ]
     },
     "execution_count": 3,
     "metadata": {},
     "output_type": "execute_result"
    }
   ],
   "source": [
    "spsc.todense()"
   ]
  },
  {
   "cell_type": "markdown",
   "metadata": {
    "papermill": {
     "duration": 0.019021,
     "end_time": "2020-06-29T23:22:12.344423",
     "exception": false,
     "start_time": "2020-06-29T23:22:12.325402",
     "status": "completed"
    },
    "tags": []
   },
   "source": [
    "### `axis=None`"
   ]
  },
  {
   "cell_type": "markdown",
   "metadata": {
    "papermill": {
     "duration": 0.014435,
     "end_time": "2020-06-29T23:22:12.375267",
     "exception": false,
     "start_time": "2020-06-29T23:22:12.360832",
     "status": "completed"
    },
    "tags": []
   },
   "source": [
    "Dask dense blocks:"
   ]
  },
  {
   "cell_type": "code",
   "execution_count": 4,
   "metadata": {
    "execution": {
     "iopub.execute_input": "2020-06-29T23:22:12.409827Z",
     "iopub.status.busy": "2020-06-29T23:22:12.409145Z",
     "iopub.status.idle": "2020-06-29T23:22:12.439393Z",
     "shell.execute_reply": "2020-06-29T23:22:12.438709Z"
    },
    "papermill": {
     "duration": 0.050274,
     "end_time": "2020-06-29T23:22:12.439636",
     "exception": false,
     "start_time": "2020-06-29T23:22:12.389362",
     "status": "completed"
    },
    "tags": []
   },
   "outputs": [
    {
     "data": {
      "text/plain": [
       "(630, 630, array([[630]]))"
      ]
     },
     "execution_count": 4,
     "metadata": {},
     "output_type": "execute_result"
    }
   ],
   "source": [
    "d.sum().compute(), d.sum(keepdims=False).compute(), d.sum(keepdims=True).compute()"
   ]
  },
  {
   "cell_type": "markdown",
   "metadata": {
    "papermill": {
     "duration": 0.013963,
     "end_time": "2020-06-29T23:22:12.467352",
     "exception": false,
     "start_time": "2020-06-29T23:22:12.453389",
     "status": "completed"
    },
    "tags": []
   },
   "source": [
    "Dask scipy.sparse blocks:"
   ]
  },
  {
   "cell_type": "code",
   "execution_count": 5,
   "metadata": {
    "execution": {
     "iopub.execute_input": "2020-06-29T23:22:12.506177Z",
     "iopub.status.busy": "2020-06-29T23:22:12.505451Z",
     "iopub.status.idle": "2020-06-29T23:22:12.535487Z",
     "shell.execute_reply": "2020-06-29T23:22:12.535969Z"
    },
    "papermill": {
     "duration": 0.055215,
     "end_time": "2020-06-29T23:22:12.536174",
     "exception": false,
     "start_time": "2020-06-29T23:22:12.480959",
     "status": "completed"
    },
    "scrolled": true,
    "tags": []
   },
   "outputs": [
    {
     "data": {
      "text/plain": [
       "(matrix([[630]]), matrix([[630]]), matrix([[630]]))"
      ]
     },
     "execution_count": 5,
     "metadata": {},
     "output_type": "execute_result"
    }
   ],
   "source": [
    "sps.sum().compute(), sps.sum(keepdims=False).compute(), sps.sum(keepdims=True).compute()"
   ]
  },
  {
   "cell_type": "markdown",
   "metadata": {
    "papermill": {
     "duration": 0.014061,
     "end_time": "2020-06-29T23:22:12.564315",
     "exception": false,
     "start_time": "2020-06-29T23:22:12.550254",
     "status": "completed"
    },
    "tags": []
   },
   "source": [
    "scipy.sparse, sans Dask:"
   ]
  },
  {
   "cell_type": "code",
   "execution_count": 6,
   "metadata": {
    "execution": {
     "iopub.execute_input": "2020-06-29T23:22:12.606258Z",
     "iopub.status.busy": "2020-06-29T23:22:12.605238Z",
     "iopub.status.idle": "2020-06-29T23:22:12.613722Z",
     "shell.execute_reply": "2020-06-29T23:22:12.612744Z"
    },
    "papermill": {
     "duration": 0.030379,
     "end_time": "2020-06-29T23:22:12.613948",
     "exception": false,
     "start_time": "2020-06-29T23:22:12.583569",
     "status": "completed"
    },
    "scrolled": true,
    "tags": []
   },
   "outputs": [
    {
     "data": {
      "text/plain": [
       "(630, 630, matrix([[630]], dtype=int64))"
      ]
     },
     "execution_count": 6,
     "metadata": {},
     "output_type": "execute_result"
    }
   ],
   "source": [
    "spsc.sum(), spsc.sum(keepdims=False), spsc.sum(keepdims=True)"
   ]
  },
  {
   "cell_type": "markdown",
   "metadata": {
    "papermill": {
     "duration": 0.014135,
     "end_time": "2020-06-29T23:22:12.643735",
     "exception": false,
     "start_time": "2020-06-29T23:22:12.629600",
     "status": "completed"
    },
    "tags": []
   },
   "source": [
    "### `axis=0`"
   ]
  },
  {
   "cell_type": "markdown",
   "metadata": {
    "papermill": {
     "duration": 0.017065,
     "end_time": "2020-06-29T23:22:12.676267",
     "exception": false,
     "start_time": "2020-06-29T23:22:12.659202",
     "status": "completed"
    },
    "tags": []
   },
   "source": [
    "Dask dense blocks:"
   ]
  },
  {
   "cell_type": "code",
   "execution_count": 7,
   "metadata": {
    "execution": {
     "iopub.execute_input": "2020-06-29T23:22:12.714672Z",
     "iopub.status.busy": "2020-06-29T23:22:12.714057Z",
     "iopub.status.idle": "2020-06-29T23:22:12.737249Z",
     "shell.execute_reply": "2020-06-29T23:22:12.736596Z"
    },
    "papermill": {
     "duration": 0.045299,
     "end_time": "2020-06-29T23:22:12.737414",
     "exception": false,
     "start_time": "2020-06-29T23:22:12.692115",
     "status": "completed"
    },
    "tags": []
   },
   "outputs": [
    {
     "data": {
      "text/plain": [
       "(array([ 90,  96, 102, 108, 114, 120]),\n",
       " array([ 90,  96, 102, 108, 114, 120]),\n",
       " array([[ 90,  96, 102, 108, 114, 120]]))"
      ]
     },
     "execution_count": 7,
     "metadata": {},
     "output_type": "execute_result"
    }
   ],
   "source": [
    "d.sum(axis=0).compute(), d.sum(axis=0, keepdims=False).compute(), d.sum(axis=0, keepdims=True).compute()"
   ]
  },
  {
   "cell_type": "markdown",
   "metadata": {
    "papermill": {
     "duration": 0.017873,
     "end_time": "2020-06-29T23:22:12.769928",
     "exception": false,
     "start_time": "2020-06-29T23:22:12.752055",
     "status": "completed"
    },
    "tags": []
   },
   "source": [
    "Dask scipy.sparse blocks:"
   ]
  },
  {
   "cell_type": "code",
   "execution_count": 8,
   "metadata": {
    "execution": {
     "iopub.execute_input": "2020-06-29T23:22:12.809889Z",
     "iopub.status.busy": "2020-06-29T23:22:12.809107Z",
     "iopub.status.idle": "2020-06-29T23:22:12.846553Z",
     "shell.execute_reply": "2020-06-29T23:22:12.845478Z"
    },
    "papermill": {
     "duration": 0.059561,
     "end_time": "2020-06-29T23:22:12.846830",
     "exception": false,
     "start_time": "2020-06-29T23:22:12.787269",
     "status": "completed"
    },
    "tags": []
   },
   "outputs": [
    {
     "data": {
      "text/plain": [
       "(matrix([[ 90,  96, 102, 108, 114, 120]]),\n",
       " matrix([[ 90,  96, 102, 108, 114, 120]]),\n",
       " matrix([[ 90,  96, 102, 108, 114, 120]]))"
      ]
     },
     "execution_count": 8,
     "metadata": {},
     "output_type": "execute_result"
    }
   ],
   "source": [
    "sps.sum(axis=0).compute(), sps.sum(axis=0, keepdims=False).compute(), sps.sum(axis=0, keepdims=True).compute()"
   ]
  },
  {
   "cell_type": "markdown",
   "metadata": {
    "papermill": {
     "duration": 0.016088,
     "end_time": "2020-06-29T23:22:12.882127",
     "exception": false,
     "start_time": "2020-06-29T23:22:12.866039",
     "status": "completed"
    },
    "tags": []
   },
   "source": [
    "scipy.sparse, sans Dask:"
   ]
  },
  {
   "cell_type": "code",
   "execution_count": 9,
   "metadata": {
    "execution": {
     "iopub.execute_input": "2020-06-29T23:22:12.930564Z",
     "iopub.status.busy": "2020-06-29T23:22:12.929953Z",
     "iopub.status.idle": "2020-06-29T23:22:12.942968Z",
     "shell.execute_reply": "2020-06-29T23:22:12.942285Z"
    },
    "papermill": {
     "duration": 0.04289,
     "end_time": "2020-06-29T23:22:12.943139",
     "exception": false,
     "start_time": "2020-06-29T23:22:12.900249",
     "status": "completed"
    },
    "tags": []
   },
   "outputs": [
    {
     "data": {
      "text/plain": [
       "(matrix([[ 90,  96, 102, 108, 114, 120]], dtype=int64),\n",
       " matrix([[ 90,  96, 102, 108, 114, 120]], dtype=int64),\n",
       " matrix([[ 90,  96, 102, 108, 114, 120]], dtype=int64))"
      ]
     },
     "execution_count": 9,
     "metadata": {},
     "output_type": "execute_result"
    }
   ],
   "source": [
    "spsc.sum(axis=0), spsc.sum(axis=0, keepdims=False), spsc.sum(axis=0, keepdims=True)"
   ]
  },
  {
   "cell_type": "markdown",
   "metadata": {
    "papermill": {
     "duration": 0.016573,
     "end_time": "2020-06-29T23:22:12.975731",
     "exception": false,
     "start_time": "2020-06-29T23:22:12.959158",
     "status": "completed"
    },
    "tags": []
   },
   "source": [
    "### `axis=1`"
   ]
  },
  {
   "cell_type": "markdown",
   "metadata": {
    "papermill": {
     "duration": 0.018478,
     "end_time": "2020-06-29T23:22:13.012808",
     "exception": false,
     "start_time": "2020-06-29T23:22:12.994330",
     "status": "completed"
    },
    "tags": []
   },
   "source": [
    "Dask dense blocks:"
   ]
  },
  {
   "cell_type": "code",
   "execution_count": 10,
   "metadata": {
    "execution": {
     "iopub.execute_input": "2020-06-29T23:22:13.056451Z",
     "iopub.status.busy": "2020-06-29T23:22:13.055287Z",
     "iopub.status.idle": "2020-06-29T23:22:13.080595Z",
     "shell.execute_reply": "2020-06-29T23:22:13.079784Z"
    },
    "papermill": {
     "duration": 0.049651,
     "end_time": "2020-06-29T23:22:13.081065",
     "exception": false,
     "start_time": "2020-06-29T23:22:13.031414",
     "status": "completed"
    },
    "tags": []
   },
   "outputs": [
    {
     "data": {
      "text/plain": [
       "(array([ 15,  51,  87, 123, 159, 195]),\n",
       " array([ 15,  51,  87, 123, 159, 195]),\n",
       " array([[ 15],\n",
       "        [ 51],\n",
       "        [ 87],\n",
       "        [123],\n",
       "        [159],\n",
       "        [195]]))"
      ]
     },
     "execution_count": 10,
     "metadata": {},
     "output_type": "execute_result"
    }
   ],
   "source": [
    "d.sum(axis=1).compute(), d.sum(axis=1, keepdims=False).compute(), d.sum(axis=1, keepdims=True).compute()"
   ]
  },
  {
   "cell_type": "markdown",
   "metadata": {
    "papermill": {
     "duration": 0.016249,
     "end_time": "2020-06-29T23:22:13.118116",
     "exception": false,
     "start_time": "2020-06-29T23:22:13.101867",
     "status": "completed"
    },
    "tags": []
   },
   "source": [
    "Dask scipy.sparse blocks:"
   ]
  },
  {
   "cell_type": "code",
   "execution_count": 11,
   "metadata": {
    "execution": {
     "iopub.execute_input": "2020-06-29T23:22:13.162265Z",
     "iopub.status.busy": "2020-06-29T23:22:13.161244Z",
     "iopub.status.idle": "2020-06-29T23:22:13.192036Z",
     "shell.execute_reply": "2020-06-29T23:22:13.191511Z"
    },
    "papermill": {
     "duration": 0.057142,
     "end_time": "2020-06-29T23:22:13.192208",
     "exception": false,
     "start_time": "2020-06-29T23:22:13.135066",
     "status": "completed"
    },
    "tags": []
   },
   "outputs": [
    {
     "data": {
      "text/plain": [
       "(matrix([[ 15],\n",
       "         [ 51],\n",
       "         [ 87],\n",
       "         [123],\n",
       "         [159],\n",
       "         [195]]),\n",
       " matrix([[ 15],\n",
       "         [ 51],\n",
       "         [ 87],\n",
       "         [123],\n",
       "         [159],\n",
       "         [195]]),\n",
       " matrix([[ 15],\n",
       "         [ 51],\n",
       "         [ 87],\n",
       "         [123],\n",
       "         [159],\n",
       "         [195]]))"
      ]
     },
     "execution_count": 11,
     "metadata": {},
     "output_type": "execute_result"
    }
   ],
   "source": [
    "sps.sum(axis=1).compute(), sps.sum(axis=1, keepdims=False).compute(), sps.sum(axis=1, keepdims=True).compute()"
   ]
  },
  {
   "cell_type": "markdown",
   "metadata": {
    "papermill": {
     "duration": 0.017809,
     "end_time": "2020-06-29T23:22:13.227667",
     "exception": false,
     "start_time": "2020-06-29T23:22:13.209858",
     "status": "completed"
    },
    "tags": []
   },
   "source": [
    "scipy.sparse, sans Dask:"
   ]
  },
  {
   "cell_type": "code",
   "execution_count": 12,
   "metadata": {
    "execution": {
     "iopub.execute_input": "2020-06-29T23:22:13.273415Z",
     "iopub.status.busy": "2020-06-29T23:22:13.272481Z",
     "iopub.status.idle": "2020-06-29T23:22:13.279948Z",
     "shell.execute_reply": "2020-06-29T23:22:13.279412Z"
    },
    "papermill": {
     "duration": 0.032606,
     "end_time": "2020-06-29T23:22:13.280123",
     "exception": false,
     "start_time": "2020-06-29T23:22:13.247517",
     "status": "completed"
    },
    "tags": []
   },
   "outputs": [
    {
     "data": {
      "text/plain": [
       "(matrix([[ 15],\n",
       "         [ 51],\n",
       "         [ 87],\n",
       "         [123],\n",
       "         [159],\n",
       "         [195]], dtype=int64),\n",
       " matrix([[ 15],\n",
       "         [ 51],\n",
       "         [ 87],\n",
       "         [123],\n",
       "         [159],\n",
       "         [195]], dtype=int64),\n",
       " matrix([[ 15],\n",
       "         [ 51],\n",
       "         [ 87],\n",
       "         [123],\n",
       "         [159],\n",
       "         [195]], dtype=int64))"
      ]
     },
     "execution_count": 12,
     "metadata": {},
     "output_type": "execute_result"
    }
   ],
   "source": [
    "spsc.sum(axis=1), spsc.sum(axis=1, keepdims=False), spsc.sum(axis=1, keepdims=True)"
   ]
  }
 ],
 "metadata": {
  "kernelspec": {
   "display_name": "3.8.2",
   "language": "python",
   "name": "3.8.2"
  },
  "language_info": {
   "codemirror_mode": {
    "name": "ipython",
    "version": 3
   },
   "file_extension": ".py",
   "mimetype": "text/x-python",
   "name": "python",
   "nbconvert_exporter": "python",
   "pygments_lexer": "ipython3",
   "version": "3.8.2"
  },
  "papermill": {
   "duration": 3.30146,
   "end_time": "2020-06-29T23:22:13.611214",
   "environment_variables": {},
   "exception": null,
   "input_path": "sum-test-sparse.ipynb",
   "output_path": "passed-sparse.ipynb",
   "parameters": {},
   "start_time": "2020-06-29T23:22:10.309754",
   "version": "2.1.1"
  }
 },
 "nbformat": 4,
 "nbformat_minor": 2
}
