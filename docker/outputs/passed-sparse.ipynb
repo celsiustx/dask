{
 "cells": [
  {
   "cell_type": "code",
   "execution_count": 1,
   "metadata": {
    "execution": {
     "iopub.execute_input": "2020-06-29T00:29:52.678254Z",
     "iopub.status.busy": "2020-06-29T00:29:52.677260Z",
     "iopub.status.idle": "2020-06-29T00:29:53.024708Z",
     "shell.execute_reply": "2020-06-29T00:29:53.023678Z"
    },
    "papermill": {
     "duration": 0.37294,
     "end_time": "2020-06-29T00:29:53.024983",
     "exception": false,
     "start_time": "2020-06-29T00:29:52.652043",
     "status": "completed"
    },
    "tags": []
   },
   "outputs": [
    {
     "data": {
      "text/html": [
       "<table>\n",
       "<tr>\n",
       "<td>\n",
       "<table>\n",
       "  <thead>\n",
       "    <tr><td> </td><th> Array </th><th> Chunk </th></tr>\n",
       "  </thead>\n",
       "  <tbody>\n",
       "    <tr><th> Bytes </th><td> 288 B </td> <td> 72 B </td></tr>\n",
       "    <tr><th> Shape </th><td> (6, 6) </td> <td> (3, 3) </td></tr>\n",
       "    <tr><th> Count </th><td> 5 Tasks </td><td> 4 Chunks </td></tr>\n",
       "    <tr><th> Type </th><td> int64 </td><td> numpy.ndarray </td></tr>\n",
       "  </tbody>\n",
       "</table>\n",
       "</td>\n",
       "<td>\n",
       "<svg width=\"170\" height=\"170\" style=\"stroke:rgb(0,0,0);stroke-width:1\" >\n",
       "\n",
       "  <!-- Horizontal lines -->\n",
       "  <line x1=\"0\" y1=\"0\" x2=\"120\" y2=\"0\" style=\"stroke-width:2\" />\n",
       "  <line x1=\"0\" y1=\"60\" x2=\"120\" y2=\"60\" />\n",
       "  <line x1=\"0\" y1=\"120\" x2=\"120\" y2=\"120\" style=\"stroke-width:2\" />\n",
       "\n",
       "  <!-- Vertical lines -->\n",
       "  <line x1=\"0\" y1=\"0\" x2=\"0\" y2=\"120\" style=\"stroke-width:2\" />\n",
       "  <line x1=\"60\" y1=\"0\" x2=\"60\" y2=\"120\" />\n",
       "  <line x1=\"120\" y1=\"0\" x2=\"120\" y2=\"120\" style=\"stroke-width:2\" />\n",
       "\n",
       "  <!-- Colored Rectangle -->\n",
       "  <polygon points=\"0.000000,0.000000 120.000000,0.000000 120.000000,120.000000 0.000000,120.000000\" style=\"fill:#ECB172A0;stroke-width:0\"/>\n",
       "\n",
       "  <!-- Text -->\n",
       "  <text x=\"60.000000\" y=\"140.000000\" font-size=\"1.0rem\" font-weight=\"100\" text-anchor=\"middle\" >6</text>\n",
       "  <text x=\"140.000000\" y=\"60.000000\" font-size=\"1.0rem\" font-weight=\"100\" text-anchor=\"middle\" transform=\"rotate(0,140.000000,60.000000)\">6</text>\n",
       "</svg>\n",
       "</td>\n",
       "</tr>\n",
       "</table>"
      ],
      "text/plain": [
       "dask.array<array, shape=(6, 6), dtype=int64, chunksize=(3, 3), chunktype=numpy.ndarray>"
      ]
     },
     "execution_count": 1,
     "metadata": {},
     "output_type": "execute_result"
    }
   ],
   "source": [
    "from dask.array import from_array\n",
    "from numpy import array\n",
    "\n",
    "A = array(range(36)).reshape((6,6))\n",
    "d = from_array(A, chunks=(3,3))\n",
    "d"
   ]
  },
  {
   "cell_type": "markdown",
   "metadata": {
    "papermill": {
     "duration": 0.013039,
     "end_time": "2020-06-29T00:29:53.052462",
     "exception": false,
     "start_time": "2020-06-29T00:29:53.039423",
     "status": "completed"
    },
    "tags": []
   },
   "source": [
    "## `scipy.sparse`"
   ]
  },
  {
   "cell_type": "code",
   "execution_count": 2,
   "metadata": {
    "execution": {
     "iopub.execute_input": "2020-06-29T00:29:53.085610Z",
     "iopub.status.busy": "2020-06-29T00:29:53.084935Z",
     "iopub.status.idle": "2020-06-29T00:29:53.162438Z",
     "shell.execute_reply": "2020-06-29T00:29:53.161670Z"
    },
    "papermill": {
     "duration": 0.09725,
     "end_time": "2020-06-29T00:29:53.162647",
     "exception": false,
     "start_time": "2020-06-29T00:29:53.065397",
     "status": "completed"
    },
    "tags": []
   },
   "outputs": [
    {
     "data": {
      "text/plain": [
       "<6x6 sparse matrix of type '<class 'numpy.longlong'>'\n",
       "\twith 35 stored elements in COOrdinate format>"
      ]
     },
     "execution_count": 2,
     "metadata": {},
     "output_type": "execute_result"
    }
   ],
   "source": [
    "from scipy.sparse import spmatrix, coo_matrix, csr_matrix, csc_matrix, dia_matrix\n",
    "\n",
    "sps = d.map_blocks(coo_matrix, chunks=(3,3))\n",
    "spsc = sps.compute(scheduler=\"synchronous\")\n",
    "spsc"
   ]
  },
  {
   "cell_type": "code",
   "execution_count": 3,
   "metadata": {
    "execution": {
     "iopub.execute_input": "2020-06-29T00:29:53.198577Z",
     "iopub.status.busy": "2020-06-29T00:29:53.197917Z",
     "iopub.status.idle": "2020-06-29T00:29:53.204869Z",
     "shell.execute_reply": "2020-06-29T00:29:53.204387Z"
    },
    "papermill": {
     "duration": 0.027456,
     "end_time": "2020-06-29T00:29:53.205109",
     "exception": false,
     "start_time": "2020-06-29T00:29:53.177653",
     "status": "completed"
    },
    "tags": []
   },
   "outputs": [
    {
     "data": {
      "text/plain": [
       "matrix([[ 0,  1,  2,  3,  4,  5],\n",
       "        [ 6,  7,  8,  9, 10, 11],\n",
       "        [12, 13, 14, 15, 16, 17],\n",
       "        [18, 19, 20, 21, 22, 23],\n",
       "        [24, 25, 26, 27, 28, 29],\n",
       "        [30, 31, 32, 33, 34, 35]], dtype=int64)"
      ]
     },
     "execution_count": 3,
     "metadata": {},
     "output_type": "execute_result"
    }
   ],
   "source": [
    "spsc.todense()"
   ]
  },
  {
   "cell_type": "markdown",
   "metadata": {
    "papermill": {
     "duration": 0.015457,
     "end_time": "2020-06-29T00:29:53.234857",
     "exception": false,
     "start_time": "2020-06-29T00:29:53.219400",
     "status": "completed"
    },
    "tags": []
   },
   "source": [
    "### `axis=None`"
   ]
  },
  {
   "cell_type": "markdown",
   "metadata": {
    "papermill": {
     "duration": 0.013834,
     "end_time": "2020-06-29T00:29:53.263458",
     "exception": false,
     "start_time": "2020-06-29T00:29:53.249624",
     "status": "completed"
    },
    "tags": []
   },
   "source": [
    "Dask dense blocks:"
   ]
  },
  {
   "cell_type": "code",
   "execution_count": 4,
   "metadata": {
    "execution": {
     "iopub.execute_input": "2020-06-29T00:29:53.300305Z",
     "iopub.status.busy": "2020-06-29T00:29:53.299428Z",
     "iopub.status.idle": "2020-06-29T00:29:53.330343Z",
     "shell.execute_reply": "2020-06-29T00:29:53.330935Z"
    },
    "papermill": {
     "duration": 0.054002,
     "end_time": "2020-06-29T00:29:53.331196",
     "exception": false,
     "start_time": "2020-06-29T00:29:53.277194",
     "status": "completed"
    },
    "tags": []
   },
   "outputs": [
    {
     "data": {
      "text/plain": [
       "(630, 630, array([[630]]))"
      ]
     },
     "execution_count": 4,
     "metadata": {},
     "output_type": "execute_result"
    }
   ],
   "source": [
    "d.sum().compute(), d.sum(keepdims=False).compute(), d.sum(keepdims=True).compute()"
   ]
  },
  {
   "cell_type": "markdown",
   "metadata": {
    "papermill": {
     "duration": 0.014556,
     "end_time": "2020-06-29T00:29:53.360266",
     "exception": false,
     "start_time": "2020-06-29T00:29:53.345710",
     "status": "completed"
    },
    "tags": []
   },
   "source": [
    "Dask scipy.sparse blocks:"
   ]
  },
  {
   "cell_type": "code",
   "execution_count": 5,
   "metadata": {
    "execution": {
     "iopub.execute_input": "2020-06-29T00:29:53.402119Z",
     "iopub.status.busy": "2020-06-29T00:29:53.401351Z",
     "iopub.status.idle": "2020-06-29T00:29:53.432078Z",
     "shell.execute_reply": "2020-06-29T00:29:53.431499Z"
    },
    "papermill": {
     "duration": 0.056801,
     "end_time": "2020-06-29T00:29:53.432260",
     "exception": false,
     "start_time": "2020-06-29T00:29:53.375459",
     "status": "completed"
    },
    "scrolled": true,
    "tags": []
   },
   "outputs": [
    {
     "data": {
      "text/plain": [
       "(matrix([[630]]), matrix([[630]]), matrix([[630]]))"
      ]
     },
     "execution_count": 5,
     "metadata": {},
     "output_type": "execute_result"
    }
   ],
   "source": [
    "sps.sum().compute(), sps.sum(keepdims=False).compute(), sps.sum(keepdims=True).compute()"
   ]
  },
  {
   "cell_type": "markdown",
   "metadata": {
    "papermill": {
     "duration": 0.014679,
     "end_time": "2020-06-29T00:29:53.462002",
     "exception": false,
     "start_time": "2020-06-29T00:29:53.447323",
     "status": "completed"
    },
    "tags": []
   },
   "source": [
    "scipy.sparse, sans Dask:"
   ]
  },
  {
   "cell_type": "code",
   "execution_count": 6,
   "metadata": {
    "execution": {
     "iopub.execute_input": "2020-06-29T00:29:53.499323Z",
     "iopub.status.busy": "2020-06-29T00:29:53.498620Z",
     "iopub.status.idle": "2020-06-29T00:29:53.503474Z",
     "shell.execute_reply": "2020-06-29T00:29:53.502782Z"
    },
    "papermill": {
     "duration": 0.026428,
     "end_time": "2020-06-29T00:29:53.503647",
     "exception": false,
     "start_time": "2020-06-29T00:29:53.477219",
     "status": "completed"
    },
    "scrolled": true,
    "tags": []
   },
   "outputs": [
    {
     "data": {
      "text/plain": [
       "(630, 630, matrix([[630]], dtype=int64))"
      ]
     },
     "execution_count": 6,
     "metadata": {},
     "output_type": "execute_result"
    }
   ],
   "source": [
    "spsc.sum(), spsc.sum(keepdims=False), spsc.sum(keepdims=True)"
   ]
  },
  {
   "cell_type": "markdown",
   "metadata": {
    "papermill": {
     "duration": 0.015326,
     "end_time": "2020-06-29T00:29:53.534091",
     "exception": false,
     "start_time": "2020-06-29T00:29:53.518765",
     "status": "completed"
    },
    "tags": []
   },
   "source": [
    "### `axis=0`"
   ]
  },
  {
   "cell_type": "markdown",
   "metadata": {
    "papermill": {
     "duration": 0.01551,
     "end_time": "2020-06-29T00:29:53.565916",
     "exception": false,
     "start_time": "2020-06-29T00:29:53.550406",
     "status": "completed"
    },
    "tags": []
   },
   "source": [
    "Dask dense blocks:"
   ]
  },
  {
   "cell_type": "code",
   "execution_count": 7,
   "metadata": {
    "execution": {
     "iopub.execute_input": "2020-06-29T00:29:53.605823Z",
     "iopub.status.busy": "2020-06-29T00:29:53.605109Z",
     "iopub.status.idle": "2020-06-29T00:29:53.625710Z",
     "shell.execute_reply": "2020-06-29T00:29:53.626239Z"
    },
    "papermill": {
     "duration": 0.044389,
     "end_time": "2020-06-29T00:29:53.626459",
     "exception": false,
     "start_time": "2020-06-29T00:29:53.582070",
     "status": "completed"
    },
    "tags": []
   },
   "outputs": [
    {
     "data": {
      "text/plain": [
       "(array([ 90,  96, 102, 108, 114, 120]),\n",
       " array([ 90,  96, 102, 108, 114, 120]),\n",
       " array([[ 90,  96, 102, 108, 114, 120]]))"
      ]
     },
     "execution_count": 7,
     "metadata": {},
     "output_type": "execute_result"
    }
   ],
   "source": [
    "d.sum(axis=0).compute(), d.sum(axis=0, keepdims=False).compute(), d.sum(axis=0, keepdims=True).compute()"
   ]
  },
  {
   "cell_type": "markdown",
   "metadata": {
    "papermill": {
     "duration": 0.01562,
     "end_time": "2020-06-29T00:29:53.657412",
     "exception": false,
     "start_time": "2020-06-29T00:29:53.641792",
     "status": "completed"
    },
    "tags": []
   },
   "source": [
    "Dask scipy.sparse blocks:"
   ]
  },
  {
   "cell_type": "code",
   "execution_count": 8,
   "metadata": {
    "execution": {
     "iopub.execute_input": "2020-06-29T00:29:53.701251Z",
     "iopub.status.busy": "2020-06-29T00:29:53.700535Z",
     "iopub.status.idle": "2020-06-29T00:29:53.733662Z",
     "shell.execute_reply": "2020-06-29T00:29:53.732979Z"
    },
    "papermill": {
     "duration": 0.059503,
     "end_time": "2020-06-29T00:29:53.733901",
     "exception": false,
     "start_time": "2020-06-29T00:29:53.674398",
     "status": "completed"
    },
    "tags": []
   },
   "outputs": [
    {
     "name": "stdout",
     "output_type": "stream",
     "text": [
      "Forcing keepdims=True for np.matrix.sum(axis=0)\n",
      "Forcing keepdims=True for np.matrix.sum(axis=0)\n",
      "Forcing keepdims=True for np.matrix.sum(axis=0)\n"
     ]
    },
    {
     "data": {
      "text/plain": [
       "(array([[ 90,  96, 102, 108, 114, 120]]),\n",
       " array([[ 90,  96, 102, 108, 114, 120]]),\n",
       " array([[ 90,  96, 102, 108, 114, 120]]))"
      ]
     },
     "execution_count": 8,
     "metadata": {},
     "output_type": "execute_result"
    }
   ],
   "source": [
    "sps.sum(axis=0).compute(), sps.sum(axis=0, keepdims=False).compute(), sps.sum(axis=0, keepdims=True).compute()"
   ]
  },
  {
   "cell_type": "markdown",
   "metadata": {
    "papermill": {
     "duration": 0.01616,
     "end_time": "2020-06-29T00:29:53.766642",
     "exception": false,
     "start_time": "2020-06-29T00:29:53.750482",
     "status": "completed"
    },
    "tags": []
   },
   "source": [
    "scipy.sparse, sans Dask:"
   ]
  },
  {
   "cell_type": "code",
   "execution_count": 9,
   "metadata": {
    "execution": {
     "iopub.execute_input": "2020-06-29T00:29:53.810022Z",
     "iopub.status.busy": "2020-06-29T00:29:53.809181Z",
     "iopub.status.idle": "2020-06-29T00:29:53.816227Z",
     "shell.execute_reply": "2020-06-29T00:29:53.815669Z"
    },
    "papermill": {
     "duration": 0.033411,
     "end_time": "2020-06-29T00:29:53.816406",
     "exception": false,
     "start_time": "2020-06-29T00:29:53.782995",
     "status": "completed"
    },
    "tags": []
   },
   "outputs": [
    {
     "data": {
      "text/plain": [
       "(matrix([[ 90,  96, 102, 108, 114, 120]], dtype=int64),\n",
       " matrix([[ 90,  96, 102, 108, 114, 120]], dtype=int64),\n",
       " matrix([[ 90,  96, 102, 108, 114, 120]], dtype=int64))"
      ]
     },
     "execution_count": 9,
     "metadata": {},
     "output_type": "execute_result"
    }
   ],
   "source": [
    "spsc.sum(axis=0), spsc.sum(axis=0, keepdims=False), spsc.sum(axis=0, keepdims=True)"
   ]
  },
  {
   "cell_type": "markdown",
   "metadata": {
    "papermill": {
     "duration": 0.016598,
     "end_time": "2020-06-29T00:29:53.849525",
     "exception": false,
     "start_time": "2020-06-29T00:29:53.832927",
     "status": "completed"
    },
    "tags": []
   },
   "source": [
    "### `axis=1`"
   ]
  },
  {
   "cell_type": "markdown",
   "metadata": {
    "papermill": {
     "duration": 0.016963,
     "end_time": "2020-06-29T00:29:53.882996",
     "exception": false,
     "start_time": "2020-06-29T00:29:53.866033",
     "status": "completed"
    },
    "tags": []
   },
   "source": [
    "Dask dense blocks:"
   ]
  },
  {
   "cell_type": "code",
   "execution_count": 10,
   "metadata": {
    "execution": {
     "iopub.execute_input": "2020-06-29T00:29:53.926858Z",
     "iopub.status.busy": "2020-06-29T00:29:53.926126Z",
     "iopub.status.idle": "2020-06-29T00:29:53.950291Z",
     "shell.execute_reply": "2020-06-29T00:29:53.949623Z"
    },
    "papermill": {
     "duration": 0.049815,
     "end_time": "2020-06-29T00:29:53.950473",
     "exception": false,
     "start_time": "2020-06-29T00:29:53.900658",
     "status": "completed"
    },
    "tags": []
   },
   "outputs": [
    {
     "data": {
      "text/plain": [
       "(array([ 15,  51,  87, 123, 159, 195]),\n",
       " array([ 15,  51,  87, 123, 159, 195]),\n",
       " array([[ 15],\n",
       "        [ 51],\n",
       "        [ 87],\n",
       "        [123],\n",
       "        [159],\n",
       "        [195]]))"
      ]
     },
     "execution_count": 10,
     "metadata": {},
     "output_type": "execute_result"
    }
   ],
   "source": [
    "d.sum(axis=1).compute(), d.sum(axis=1, keepdims=False).compute(), d.sum(axis=1, keepdims=True).compute()"
   ]
  },
  {
   "cell_type": "markdown",
   "metadata": {
    "papermill": {
     "duration": 0.018224,
     "end_time": "2020-06-29T00:29:53.987412",
     "exception": false,
     "start_time": "2020-06-29T00:29:53.969188",
     "status": "completed"
    },
    "tags": []
   },
   "source": [
    "Dask scipy.sparse blocks:"
   ]
  },
  {
   "cell_type": "code",
   "execution_count": 11,
   "metadata": {
    "execution": {
     "iopub.execute_input": "2020-06-29T00:29:54.039821Z",
     "iopub.status.busy": "2020-06-29T00:29:54.038874Z",
     "iopub.status.idle": "2020-06-29T00:29:54.069831Z",
     "shell.execute_reply": "2020-06-29T00:29:54.069140Z"
    },
    "papermill": {
     "duration": 0.062706,
     "end_time": "2020-06-29T00:29:54.070073",
     "exception": false,
     "start_time": "2020-06-29T00:29:54.007367",
     "status": "completed"
    },
    "tags": []
   },
   "outputs": [
    {
     "name": "stdout",
     "output_type": "stream",
     "text": [
      "Forcing keepdims=True for np.matrix.sum(axis=1)\n",
      "Forcing keepdims=True for np.matrix.sum(axis=1)\n",
      "Forcing keepdims=True for np.matrix.sum(axis=1)\n"
     ]
    },
    {
     "data": {
      "text/plain": [
       "(array([[ 15],\n",
       "        [ 51],\n",
       "        [ 87],\n",
       "        [123],\n",
       "        [159],\n",
       "        [195]]),\n",
       " array([[ 15],\n",
       "        [ 51],\n",
       "        [ 87],\n",
       "        [123],\n",
       "        [159],\n",
       "        [195]]),\n",
       " array([[ 15],\n",
       "        [ 51],\n",
       "        [ 87],\n",
       "        [123],\n",
       "        [159],\n",
       "        [195]]))"
      ]
     },
     "execution_count": 11,
     "metadata": {},
     "output_type": "execute_result"
    }
   ],
   "source": [
    "sps.sum(axis=1).compute(), sps.sum(axis=1, keepdims=False).compute(), sps.sum(axis=1, keepdims=True).compute()"
   ]
  },
  {
   "cell_type": "markdown",
   "metadata": {
    "papermill": {
     "duration": 0.017762,
     "end_time": "2020-06-29T00:29:54.106248",
     "exception": false,
     "start_time": "2020-06-29T00:29:54.088486",
     "status": "completed"
    },
    "tags": []
   },
   "source": [
    "scipy.sparse, sans Dask:"
   ]
  },
  {
   "cell_type": "code",
   "execution_count": 12,
   "metadata": {
    "execution": {
     "iopub.execute_input": "2020-06-29T00:29:54.150721Z",
     "iopub.status.busy": "2020-06-29T00:29:54.150012Z",
     "iopub.status.idle": "2020-06-29T00:29:54.157294Z",
     "shell.execute_reply": "2020-06-29T00:29:54.156577Z"
    },
    "papermill": {
     "duration": 0.033173,
     "end_time": "2020-06-29T00:29:54.157476",
     "exception": false,
     "start_time": "2020-06-29T00:29:54.124303",
     "status": "completed"
    },
    "tags": []
   },
   "outputs": [
    {
     "data": {
      "text/plain": [
       "(matrix([[ 15],\n",
       "         [ 51],\n",
       "         [ 87],\n",
       "         [123],\n",
       "         [159],\n",
       "         [195]], dtype=int64),\n",
       " matrix([[ 15],\n",
       "         [ 51],\n",
       "         [ 87],\n",
       "         [123],\n",
       "         [159],\n",
       "         [195]], dtype=int64),\n",
       " matrix([[ 15],\n",
       "         [ 51],\n",
       "         [ 87],\n",
       "         [123],\n",
       "         [159],\n",
       "         [195]], dtype=int64))"
      ]
     },
     "execution_count": 12,
     "metadata": {},
     "output_type": "execute_result"
    }
   ],
   "source": [
    "spsc.sum(axis=1), spsc.sum(axis=1, keepdims=False), spsc.sum(axis=1, keepdims=True)"
   ]
  }
 ],
 "metadata": {
  "kernelspec": {
   "display_name": "3.8.2",
   "language": "python",
   "name": "3.8.2"
  },
  "language_info": {
   "codemirror_mode": {
    "name": "ipython",
    "version": 3
   },
   "file_extension": ".py",
   "mimetype": "text/x-python",
   "name": "python",
   "nbconvert_exporter": "python",
   "pygments_lexer": "ipython3",
   "version": "3.8.2"
  },
  "papermill": {
   "duration": 2.945122,
   "end_time": "2020-06-29T00:29:54.489185",
   "environment_variables": {},
   "exception": null,
   "input_path": "sum-test-sparse.ipynb",
   "output_path": "passed-sparse.ipynb",
   "parameters": {},
   "start_time": "2020-06-29T00:29:51.544063",
   "version": "2.1.1"
  }
 },
 "nbformat": 4,
 "nbformat_minor": 2
}
