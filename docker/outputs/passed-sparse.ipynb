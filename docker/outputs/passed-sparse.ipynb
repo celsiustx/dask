{
 "cells": [
  {
   "cell_type": "code",
   "execution_count": 1,
   "metadata": {
    "execution": {
     "iopub.execute_input": "2020-07-01T21:57:20.151638Z",
     "iopub.status.busy": "2020-07-01T21:57:20.150664Z",
     "iopub.status.idle": "2020-07-01T21:57:20.467202Z",
     "shell.execute_reply": "2020-07-01T21:57:20.466612Z"
    },
    "papermill": {
     "duration": 0.356807,
     "end_time": "2020-07-01T21:57:20.467394",
     "exception": false,
     "start_time": "2020-07-01T21:57:20.110587",
     "status": "completed"
    },
    "tags": []
   },
   "outputs": [
    {
     "data": {
      "text/html": [
       "<table>\n",
       "<tr>\n",
       "<td>\n",
       "<table>\n",
       "  <thead>\n",
       "    <tr><td> </td><th> Array </th><th> Chunk </th></tr>\n",
       "  </thead>\n",
       "  <tbody>\n",
       "    <tr><th> Bytes </th><td> 288 B </td> <td> 72 B </td></tr>\n",
       "    <tr><th> Shape </th><td> (6, 6) </td> <td> (3, 3) </td></tr>\n",
       "    <tr><th> Count </th><td> 5 Tasks </td><td> 4 Chunks </td></tr>\n",
       "    <tr><th> Type </th><td> int64 </td><td> numpy.ndarray </td></tr>\n",
       "  </tbody>\n",
       "</table>\n",
       "</td>\n",
       "<td>\n",
       "<svg width=\"170\" height=\"170\" style=\"stroke:rgb(0,0,0);stroke-width:1\" >\n",
       "\n",
       "  <!-- Horizontal lines -->\n",
       "  <line x1=\"0\" y1=\"0\" x2=\"120\" y2=\"0\" style=\"stroke-width:2\" />\n",
       "  <line x1=\"0\" y1=\"60\" x2=\"120\" y2=\"60\" />\n",
       "  <line x1=\"0\" y1=\"120\" x2=\"120\" y2=\"120\" style=\"stroke-width:2\" />\n",
       "\n",
       "  <!-- Vertical lines -->\n",
       "  <line x1=\"0\" y1=\"0\" x2=\"0\" y2=\"120\" style=\"stroke-width:2\" />\n",
       "  <line x1=\"60\" y1=\"0\" x2=\"60\" y2=\"120\" />\n",
       "  <line x1=\"120\" y1=\"0\" x2=\"120\" y2=\"120\" style=\"stroke-width:2\" />\n",
       "\n",
       "  <!-- Colored Rectangle -->\n",
       "  <polygon points=\"0.000000,0.000000 120.000000,0.000000 120.000000,120.000000 0.000000,120.000000\" style=\"fill:#ECB172A0;stroke-width:0\"/>\n",
       "\n",
       "  <!-- Text -->\n",
       "  <text x=\"60.000000\" y=\"140.000000\" font-size=\"1.0rem\" font-weight=\"100\" text-anchor=\"middle\" >6</text>\n",
       "  <text x=\"140.000000\" y=\"60.000000\" font-size=\"1.0rem\" font-weight=\"100\" text-anchor=\"middle\" transform=\"rotate(0,140.000000,60.000000)\">6</text>\n",
       "</svg>\n",
       "</td>\n",
       "</tr>\n",
       "</table>"
      ],
      "text/plain": [
       "dask.array<array, shape=(6, 6), dtype=int64, chunksize=(3, 3), chunktype=numpy.ndarray>"
      ]
     },
     "execution_count": 1,
     "metadata": {},
     "output_type": "execute_result"
    }
   ],
   "source": [
    "from dask.array import from_array\n",
    "from numpy import array\n",
    "\n",
    "A = array(range(36)).reshape((6,6))\n",
    "d = from_array(A, chunks=(3,3))\n",
    "d"
   ]
  },
  {
   "cell_type": "markdown",
   "metadata": {
    "papermill": {
     "duration": 0.013713,
     "end_time": "2020-07-01T21:57:20.495329",
     "exception": false,
     "start_time": "2020-07-01T21:57:20.481616",
     "status": "completed"
    },
    "tags": []
   },
   "source": [
    "## `scipy.sparse`"
   ]
  },
  {
   "cell_type": "code",
   "execution_count": 2,
   "metadata": {
    "execution": {
     "iopub.execute_input": "2020-07-01T21:57:20.534106Z",
     "iopub.status.busy": "2020-07-01T21:57:20.532781Z",
     "iopub.status.idle": "2020-07-01T21:57:20.560791Z",
     "shell.execute_reply": "2020-07-01T21:57:20.560334Z"
    },
    "papermill": {
     "duration": 0.051382,
     "end_time": "2020-07-01T21:57:20.560967",
     "exception": false,
     "start_time": "2020-07-01T21:57:20.509585",
     "status": "completed"
    },
    "tags": []
   },
   "outputs": [
    {
     "data": {
      "text/plain": [
       "<6x6 sparse matrix of type '<class 'numpy.longlong'>'\n",
       "\twith 35 stored elements in COOrdinate format>"
      ]
     },
     "execution_count": 2,
     "metadata": {},
     "output_type": "execute_result"
    }
   ],
   "source": [
    "from scipy.sparse import spmatrix, coo_matrix, csr_matrix, csc_matrix, dia_matrix\n",
    "\n",
    "sps = d.map_blocks(coo_matrix, chunks=(3,3))\n",
    "spsc = sps.compute(scheduler=\"synchronous\")\n",
    "spsc"
   ]
  },
  {
   "cell_type": "code",
   "execution_count": 3,
   "metadata": {
    "execution": {
     "iopub.execute_input": "2020-07-01T21:57:20.596444Z",
     "iopub.status.busy": "2020-07-01T21:57:20.595764Z",
     "iopub.status.idle": "2020-07-01T21:57:20.601832Z",
     "shell.execute_reply": "2020-07-01T21:57:20.601158Z"
    },
    "papermill": {
     "duration": 0.02682,
     "end_time": "2020-07-01T21:57:20.602002",
     "exception": false,
     "start_time": "2020-07-01T21:57:20.575182",
     "status": "completed"
    },
    "tags": []
   },
   "outputs": [
    {
     "data": {
      "text/plain": [
       "matrix([[ 0,  1,  2,  3,  4,  5],\n",
       "        [ 6,  7,  8,  9, 10, 11],\n",
       "        [12, 13, 14, 15, 16, 17],\n",
       "        [18, 19, 20, 21, 22, 23],\n",
       "        [24, 25, 26, 27, 28, 29],\n",
       "        [30, 31, 32, 33, 34, 35]], dtype=int64)"
      ]
     },
     "execution_count": 3,
     "metadata": {},
     "output_type": "execute_result"
    }
   ],
   "source": [
    "spsc.todense()"
   ]
  },
  {
   "cell_type": "markdown",
   "metadata": {
    "papermill": {
     "duration": 0.014072,
     "end_time": "2020-07-01T21:57:20.629306",
     "exception": false,
     "start_time": "2020-07-01T21:57:20.615234",
     "status": "completed"
    },
    "tags": []
   },
   "source": [
    "### `axis=None`"
   ]
  },
  {
   "cell_type": "markdown",
   "metadata": {
    "papermill": {
     "duration": 0.013582,
     "end_time": "2020-07-01T21:57:20.657050",
     "exception": false,
     "start_time": "2020-07-01T21:57:20.643468",
     "status": "completed"
    },
    "tags": []
   },
   "source": [
    "Dask dense blocks:"
   ]
  },
  {
   "cell_type": "code",
   "execution_count": 4,
   "metadata": {
    "execution": {
     "iopub.execute_input": "2020-07-01T21:57:20.695407Z",
     "iopub.status.busy": "2020-07-01T21:57:20.694687Z",
     "iopub.status.idle": "2020-07-01T21:57:20.714937Z",
     "shell.execute_reply": "2020-07-01T21:57:20.715455Z"
    },
    "papermill": {
     "duration": 0.045208,
     "end_time": "2020-07-01T21:57:20.715680",
     "exception": false,
     "start_time": "2020-07-01T21:57:20.670472",
     "status": "completed"
    },
    "tags": []
   },
   "outputs": [
    {
     "data": {
      "text/plain": [
       "(630, 630, array([[630]]))"
      ]
     },
     "execution_count": 4,
     "metadata": {},
     "output_type": "execute_result"
    }
   ],
   "source": [
    "d.sum().compute(), d.sum(keepdims=False).compute(), d.sum(keepdims=True).compute()"
   ]
  },
  {
   "cell_type": "markdown",
   "metadata": {
    "papermill": {
     "duration": 0.01538,
     "end_time": "2020-07-01T21:57:20.745500",
     "exception": false,
     "start_time": "2020-07-01T21:57:20.730120",
     "status": "completed"
    },
    "tags": []
   },
   "source": [
    "Dask scipy.sparse blocks:"
   ]
  },
  {
   "cell_type": "code",
   "execution_count": 5,
   "metadata": {
    "execution": {
     "iopub.execute_input": "2020-07-01T21:57:20.785452Z",
     "iopub.status.busy": "2020-07-01T21:57:20.784149Z",
     "iopub.status.idle": "2020-07-01T21:57:20.809571Z",
     "shell.execute_reply": "2020-07-01T21:57:20.808833Z"
    },
    "papermill": {
     "duration": 0.049385,
     "end_time": "2020-07-01T21:57:20.809746",
     "exception": false,
     "start_time": "2020-07-01T21:57:20.760361",
     "status": "completed"
    },
    "scrolled": true,
    "tags": []
   },
   "outputs": [
    {
     "data": {
      "text/plain": [
       "(630, 630, matrix([[630]]))"
      ]
     },
     "execution_count": 5,
     "metadata": {},
     "output_type": "execute_result"
    }
   ],
   "source": [
    "sps.sum().compute(), sps.sum(keepdims=False).compute(), sps.sum(keepdims=True).compute()"
   ]
  },
  {
   "cell_type": "markdown",
   "metadata": {
    "papermill": {
     "duration": 0.017039,
     "end_time": "2020-07-01T21:57:20.841423",
     "exception": false,
     "start_time": "2020-07-01T21:57:20.824384",
     "status": "completed"
    },
    "tags": []
   },
   "source": [
    "scipy.sparse, sans Dask:"
   ]
  },
  {
   "cell_type": "code",
   "execution_count": 6,
   "metadata": {
    "execution": {
     "iopub.execute_input": "2020-07-01T21:57:20.881163Z",
     "iopub.status.busy": "2020-07-01T21:57:20.880269Z",
     "iopub.status.idle": "2020-07-01T21:57:20.889430Z",
     "shell.execute_reply": "2020-07-01T21:57:20.888645Z"
    },
    "papermill": {
     "duration": 0.032058,
     "end_time": "2020-07-01T21:57:20.889613",
     "exception": false,
     "start_time": "2020-07-01T21:57:20.857555",
     "status": "completed"
    },
    "scrolled": true,
    "tags": []
   },
   "outputs": [
    {
     "data": {
      "text/plain": [
       "(630, 630, matrix([[630]], dtype=int64))"
      ]
     },
     "execution_count": 6,
     "metadata": {},
     "output_type": "execute_result"
    }
   ],
   "source": [
    "spsc.sum(), spsc.sum(keepdims=False), spsc.sum(keepdims=True)"
   ]
  },
  {
   "cell_type": "markdown",
   "metadata": {
    "papermill": {
     "duration": 0.015578,
     "end_time": "2020-07-01T21:57:20.920313",
     "exception": false,
     "start_time": "2020-07-01T21:57:20.904735",
     "status": "completed"
    },
    "tags": []
   },
   "source": [
    "### `axis=0`"
   ]
  },
  {
   "cell_type": "markdown",
   "metadata": {
    "papermill": {
     "duration": 0.016251,
     "end_time": "2020-07-01T21:57:20.951688",
     "exception": false,
     "start_time": "2020-07-01T21:57:20.935437",
     "status": "completed"
    },
    "tags": []
   },
   "source": [
    "Dask dense blocks:"
   ]
  },
  {
   "cell_type": "code",
   "execution_count": 7,
   "metadata": {
    "execution": {
     "iopub.execute_input": "2020-07-01T21:57:20.991578Z",
     "iopub.status.busy": "2020-07-01T21:57:20.990857Z",
     "iopub.status.idle": "2020-07-01T21:57:21.010933Z",
     "shell.execute_reply": "2020-07-01T21:57:21.011394Z"
    },
    "papermill": {
     "duration": 0.043464,
     "end_time": "2020-07-01T21:57:21.011608",
     "exception": false,
     "start_time": "2020-07-01T21:57:20.968144",
     "status": "completed"
    },
    "tags": []
   },
   "outputs": [
    {
     "data": {
      "text/plain": [
       "(array([ 90,  96, 102, 108, 114, 120]),\n",
       " array([ 90,  96, 102, 108, 114, 120]),\n",
       " array([[ 90,  96, 102, 108, 114, 120]]))"
      ]
     },
     "execution_count": 7,
     "metadata": {},
     "output_type": "execute_result"
    }
   ],
   "source": [
    "d.sum(axis=0).compute(), d.sum(axis=0, keepdims=False).compute(), d.sum(axis=0, keepdims=True).compute()"
   ]
  },
  {
   "cell_type": "markdown",
   "metadata": {
    "papermill": {
     "duration": 0.01525,
     "end_time": "2020-07-01T21:57:21.042524",
     "exception": false,
     "start_time": "2020-07-01T21:57:21.027274",
     "status": "completed"
    },
    "tags": []
   },
   "source": [
    "Dask scipy.sparse blocks:"
   ]
  },
  {
   "cell_type": "code",
   "execution_count": 8,
   "metadata": {
    "execution": {
     "iopub.execute_input": "2020-07-01T21:57:21.080827Z",
     "iopub.status.busy": "2020-07-01T21:57:21.080076Z",
     "iopub.status.idle": "2020-07-01T21:57:21.112165Z",
     "shell.execute_reply": "2020-07-01T21:57:21.111471Z"
    },
    "papermill": {
     "duration": 0.054799,
     "end_time": "2020-07-01T21:57:21.112333",
     "exception": false,
     "start_time": "2020-07-01T21:57:21.057534",
     "status": "completed"
    },
    "tags": []
   },
   "outputs": [
    {
     "data": {
      "text/plain": [
       "(matrix([[ 90,  96, 102, 108, 114, 120]]),\n",
       " matrix([[ 90,  96, 102, 108, 114, 120]]),\n",
       " matrix([[ 90,  96, 102, 108, 114, 120]]))"
      ]
     },
     "execution_count": 8,
     "metadata": {},
     "output_type": "execute_result"
    }
   ],
   "source": [
    "sps.sum(axis=0).compute(), sps.sum(axis=0, keepdims=False).compute(), sps.sum(axis=0, keepdims=True).compute()"
   ]
  },
  {
   "cell_type": "markdown",
   "metadata": {
    "papermill": {
     "duration": 0.017029,
     "end_time": "2020-07-01T21:57:21.144274",
     "exception": false,
     "start_time": "2020-07-01T21:57:21.127245",
     "status": "completed"
    },
    "tags": []
   },
   "source": [
    "scipy.sparse, sans Dask:"
   ]
  },
  {
   "cell_type": "code",
   "execution_count": 9,
   "metadata": {
    "execution": {
     "iopub.execute_input": "2020-07-01T21:57:21.181419Z",
     "iopub.status.busy": "2020-07-01T21:57:21.180664Z",
     "iopub.status.idle": "2020-07-01T21:57:21.193258Z",
     "shell.execute_reply": "2020-07-01T21:57:21.193695Z"
    },
    "papermill": {
     "duration": 0.034129,
     "end_time": "2020-07-01T21:57:21.193918",
     "exception": false,
     "start_time": "2020-07-01T21:57:21.159789",
     "status": "completed"
    },
    "tags": []
   },
   "outputs": [
    {
     "data": {
      "text/plain": [
       "(matrix([[ 90,  96, 102, 108, 114, 120]], dtype=int64),\n",
       " matrix([[ 90,  96, 102, 108, 114, 120]], dtype=int64),\n",
       " matrix([[ 90,  96, 102, 108, 114, 120]], dtype=int64))"
      ]
     },
     "execution_count": 9,
     "metadata": {},
     "output_type": "execute_result"
    }
   ],
   "source": [
    "spsc.sum(axis=0), spsc.sum(axis=0, keepdims=False), spsc.sum(axis=0, keepdims=True)"
   ]
  },
  {
   "cell_type": "markdown",
   "metadata": {
    "papermill": {
     "duration": 0.015816,
     "end_time": "2020-07-01T21:57:21.226067",
     "exception": false,
     "start_time": "2020-07-01T21:57:21.210251",
     "status": "completed"
    },
    "tags": []
   },
   "source": [
    "### `axis=1`"
   ]
  },
  {
   "cell_type": "markdown",
   "metadata": {
    "papermill": {
     "duration": 0.017408,
     "end_time": "2020-07-01T21:57:21.260154",
     "exception": false,
     "start_time": "2020-07-01T21:57:21.242746",
     "status": "completed"
    },
    "tags": []
   },
   "source": [
    "Dask dense blocks:"
   ]
  },
  {
   "cell_type": "code",
   "execution_count": 10,
   "metadata": {
    "execution": {
     "iopub.execute_input": "2020-07-01T21:57:21.304781Z",
     "iopub.status.busy": "2020-07-01T21:57:21.304061Z",
     "iopub.status.idle": "2020-07-01T21:57:21.325917Z",
     "shell.execute_reply": "2020-07-01T21:57:21.325451Z"
    },
    "papermill": {
     "duration": 0.048616,
     "end_time": "2020-07-01T21:57:21.326152",
     "exception": false,
     "start_time": "2020-07-01T21:57:21.277536",
     "status": "completed"
    },
    "tags": []
   },
   "outputs": [
    {
     "data": {
      "text/plain": [
       "(array([ 15,  51,  87, 123, 159, 195]),\n",
       " array([ 15,  51,  87, 123, 159, 195]),\n",
       " array([[ 15],\n",
       "        [ 51],\n",
       "        [ 87],\n",
       "        [123],\n",
       "        [159],\n",
       "        [195]]))"
      ]
     },
     "execution_count": 10,
     "metadata": {},
     "output_type": "execute_result"
    }
   ],
   "source": [
    "d.sum(axis=1).compute(), d.sum(axis=1, keepdims=False).compute(), d.sum(axis=1, keepdims=True).compute()"
   ]
  },
  {
   "cell_type": "markdown",
   "metadata": {
    "papermill": {
     "duration": 0.018309,
     "end_time": "2020-07-01T21:57:21.364412",
     "exception": false,
     "start_time": "2020-07-01T21:57:21.346103",
     "status": "completed"
    },
    "tags": []
   },
   "source": [
    "Dask scipy.sparse blocks:"
   ]
  },
  {
   "cell_type": "code",
   "execution_count": 11,
   "metadata": {
    "execution": {
     "iopub.execute_input": "2020-07-01T21:57:21.406457Z",
     "iopub.status.busy": "2020-07-01T21:57:21.405743Z",
     "iopub.status.idle": "2020-07-01T21:57:21.432847Z",
     "shell.execute_reply": "2020-07-01T21:57:21.432092Z"
    },
    "papermill": {
     "duration": 0.052337,
     "end_time": "2020-07-01T21:57:21.433147",
     "exception": false,
     "start_time": "2020-07-01T21:57:21.380810",
     "status": "completed"
    },
    "tags": []
   },
   "outputs": [
    {
     "data": {
      "text/plain": [
       "(matrix([[ 15],\n",
       "         [ 51],\n",
       "         [ 87],\n",
       "         [123],\n",
       "         [159],\n",
       "         [195]]),\n",
       " matrix([[ 15],\n",
       "         [ 51],\n",
       "         [ 87],\n",
       "         [123],\n",
       "         [159],\n",
       "         [195]]),\n",
       " matrix([[ 15],\n",
       "         [ 51],\n",
       "         [ 87],\n",
       "         [123],\n",
       "         [159],\n",
       "         [195]]))"
      ]
     },
     "execution_count": 11,
     "metadata": {},
     "output_type": "execute_result"
    }
   ],
   "source": [
    "sps.sum(axis=1).compute(), sps.sum(axis=1, keepdims=False).compute(), sps.sum(axis=1, keepdims=True).compute()"
   ]
  },
  {
   "cell_type": "markdown",
   "metadata": {
    "papermill": {
     "duration": 0.016834,
     "end_time": "2020-07-01T21:57:21.468289",
     "exception": false,
     "start_time": "2020-07-01T21:57:21.451455",
     "status": "completed"
    },
    "tags": []
   },
   "source": [
    "scipy.sparse, sans Dask:"
   ]
  },
  {
   "cell_type": "code",
   "execution_count": 12,
   "metadata": {
    "execution": {
     "iopub.execute_input": "2020-07-01T21:57:21.510565Z",
     "iopub.status.busy": "2020-07-01T21:57:21.509657Z",
     "iopub.status.idle": "2020-07-01T21:57:21.514245Z",
     "shell.execute_reply": "2020-07-01T21:57:21.514888Z"
    },
    "papermill": {
     "duration": 0.030581,
     "end_time": "2020-07-01T21:57:21.515189",
     "exception": false,
     "start_time": "2020-07-01T21:57:21.484608",
     "status": "completed"
    },
    "tags": []
   },
   "outputs": [
    {
     "data": {
      "text/plain": [
       "(matrix([[ 15],\n",
       "         [ 51],\n",
       "         [ 87],\n",
       "         [123],\n",
       "         [159],\n",
       "         [195]], dtype=int64),\n",
       " matrix([[ 15],\n",
       "         [ 51],\n",
       "         [ 87],\n",
       "         [123],\n",
       "         [159],\n",
       "         [195]], dtype=int64),\n",
       " matrix([[ 15],\n",
       "         [ 51],\n",
       "         [ 87],\n",
       "         [123],\n",
       "         [159],\n",
       "         [195]], dtype=int64))"
      ]
     },
     "execution_count": 12,
     "metadata": {},
     "output_type": "execute_result"
    }
   ],
   "source": [
    "spsc.sum(axis=1), spsc.sum(axis=1, keepdims=False), spsc.sum(axis=1, keepdims=True)"
   ]
  }
 ],
 "metadata": {
  "kernelspec": {
   "display_name": "3.8.2",
   "language": "python",
   "name": "3.8.2"
  },
  "language_info": {
   "codemirror_mode": {
    "name": "ipython",
    "version": 3
   },
   "file_extension": ".py",
   "mimetype": "text/x-python",
   "name": "python",
   "nbconvert_exporter": "python",
   "pygments_lexer": "ipython3",
   "version": "3.7.7"
  },
  "papermill": {
   "duration": 2.878869,
   "end_time": "2020-07-01T21:57:21.950598",
   "environment_variables": {},
   "exception": null,
   "input_path": "sum-test-sparse.ipynb",
   "output_path": "passed-sparse.ipynb",
   "parameters": {},
   "start_time": "2020-07-01T21:57:19.071729",
   "version": "2.1.2"
  }
 },
 "nbformat": 4,
 "nbformat_minor": 2
}