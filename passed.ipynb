{
 "cells": [
  {
   "cell_type": "code",
   "execution_count": 1,
   "metadata": {
    "execution": {
     "iopub.execute_input": "2020-05-29T03:30:54.898514Z",
     "iopub.status.busy": "2020-05-29T03:30:54.897791Z",
     "iopub.status.idle": "2020-05-29T03:30:55.217706Z",
     "shell.execute_reply": "2020-05-29T03:30:55.217239Z"
    },
    "papermill": {
     "duration": 0.341049,
     "end_time": "2020-05-29T03:30:55.217811",
     "exception": false,
     "start_time": "2020-05-29T03:30:54.876762",
     "status": "completed"
    },
    "tags": []
   },
   "outputs": [
    {
     "data": {
      "text/html": [
       "<table>\n",
       "<tr>\n",
       "<td>\n",
       "<table>\n",
       "  <thead>\n",
       "    <tr><td> </td><th> Array </th><th> Chunk </th></tr>\n",
       "  </thead>\n",
       "  <tbody>\n",
       "    <tr><th> Bytes </th><td> 288 B </td> <td> 72 B </td></tr>\n",
       "    <tr><th> Shape </th><td> (6, 6) </td> <td> (3, 3) </td></tr>\n",
       "    <tr><th> Count </th><td> 5 Tasks </td><td> 4 Chunks </td></tr>\n",
       "    <tr><th> Type </th><td> int64 </td><td> numpy.ndarray </td></tr>\n",
       "  </tbody>\n",
       "</table>\n",
       "</td>\n",
       "<td>\n",
       "<svg width=\"170\" height=\"170\" style=\"stroke:rgb(0,0,0);stroke-width:1\" >\n",
       "\n",
       "  <!-- Horizontal lines -->\n",
       "  <line x1=\"0\" y1=\"0\" x2=\"120\" y2=\"0\" style=\"stroke-width:2\" />\n",
       "  <line x1=\"0\" y1=\"60\" x2=\"120\" y2=\"60\" />\n",
       "  <line x1=\"0\" y1=\"120\" x2=\"120\" y2=\"120\" style=\"stroke-width:2\" />\n",
       "\n",
       "  <!-- Vertical lines -->\n",
       "  <line x1=\"0\" y1=\"0\" x2=\"0\" y2=\"120\" style=\"stroke-width:2\" />\n",
       "  <line x1=\"60\" y1=\"0\" x2=\"60\" y2=\"120\" />\n",
       "  <line x1=\"120\" y1=\"0\" x2=\"120\" y2=\"120\" style=\"stroke-width:2\" />\n",
       "\n",
       "  <!-- Colored Rectangle -->\n",
       "  <polygon points=\"0.000000,0.000000 120.000000,0.000000 120.000000,120.000000 0.000000,120.000000\" style=\"fill:#ECB172A0;stroke-width:0\"/>\n",
       "\n",
       "  <!-- Text -->\n",
       "  <text x=\"60.000000\" y=\"140.000000\" font-size=\"1.0rem\" font-weight=\"100\" text-anchor=\"middle\" >6</text>\n",
       "  <text x=\"140.000000\" y=\"60.000000\" font-size=\"1.0rem\" font-weight=\"100\" text-anchor=\"middle\" transform=\"rotate(0,140.000000,60.000000)\">6</text>\n",
       "</svg>\n",
       "</td>\n",
       "</tr>\n",
       "</table>"
      ],
      "text/plain": [
       "dask.array<array, shape=(6, 6), dtype=int64, chunksize=(3, 3), chunktype=numpy.ndarray>"
      ]
     },
     "execution_count": 1,
     "metadata": {},
     "output_type": "execute_result"
    }
   ],
   "source": [
    "from dask.array import from_array\n",
    "from numpy import array\n",
    "\n",
    "A = array(range(36)).reshape((6,6))\n",
    "d = from_array(A, chunks=(3,3))\n",
    "d"
   ]
  },
  {
   "cell_type": "code",
   "execution_count": 2,
   "metadata": {
    "execution": {
     "iopub.execute_input": "2020-05-29T03:30:55.239276Z",
     "iopub.status.busy": "2020-05-29T03:30:55.238363Z",
     "iopub.status.idle": "2020-05-29T03:30:55.319277Z",
     "shell.execute_reply": "2020-05-29T03:30:55.318700Z"
    },
    "papermill": {
     "duration": 0.094839,
     "end_time": "2020-05-29T03:30:55.319375",
     "exception": false,
     "start_time": "2020-05-29T03:30:55.224536",
     "status": "completed"
    },
    "tags": []
   },
   "outputs": [
    {
     "data": {
      "text/plain": [
       "<6x6 sparse matrix of type '<class 'numpy.longlong'>'\n",
       "\twith 35 stored elements in COOrdinate format>"
      ]
     },
     "execution_count": 2,
     "metadata": {},
     "output_type": "execute_result"
    }
   ],
   "source": [
    "from scipy.sparse import spmatrix, coo_matrix, csr_matrix, csc_matrix, dia_matrix\n",
    "\n",
    "sps = d.map_blocks(coo_matrix, chunks=(3,3))\n",
    "sps.compute(scheduler=\"synchronous\")"
   ]
  },
  {
   "cell_type": "code",
   "execution_count": 3,
   "metadata": {
    "execution": {
     "iopub.execute_input": "2020-05-29T03:30:55.346485Z",
     "iopub.status.busy": "2020-05-29T03:30:55.344975Z",
     "iopub.status.idle": "2020-05-29T03:30:55.362046Z",
     "shell.execute_reply": "2020-05-29T03:30:55.361459Z"
    },
    "papermill": {
     "duration": 0.03535,
     "end_time": "2020-05-29T03:30:55.362225",
     "exception": false,
     "start_time": "2020-05-29T03:30:55.326875",
     "status": "completed"
    },
    "tags": []
   },
   "outputs": [
    {
     "data": {
      "text/plain": [
       "matrix([[ 0,  1,  2,  3,  4,  5],\n",
       "        [ 6,  7,  8,  9, 10, 11],\n",
       "        [12, 13, 14, 15, 16, 17],\n",
       "        [18, 19, 20, 21, 22, 23],\n",
       "        [24, 25, 26, 27, 28, 29],\n",
       "        [30, 31, 32, 33, 34, 35]], dtype=int64)"
      ]
     },
     "execution_count": 3,
     "metadata": {},
     "output_type": "execute_result"
    }
   ],
   "source": [
    "sps.compute().todense()"
   ]
  },
  {
   "cell_type": "code",
   "execution_count": 4,
   "metadata": {
    "execution": {
     "iopub.execute_input": "2020-05-29T03:30:55.389372Z",
     "iopub.status.busy": "2020-05-29T03:30:55.388105Z",
     "iopub.status.idle": "2020-05-29T03:30:55.397554Z",
     "shell.execute_reply": "2020-05-29T03:30:55.397110Z"
    },
    "papermill": {
     "duration": 0.02759,
     "end_time": "2020-05-29T03:30:55.397648",
     "exception": false,
     "start_time": "2020-05-29T03:30:55.370058",
     "status": "completed"
    },
    "tags": []
   },
   "outputs": [
    {
     "data": {
      "text/plain": [
       "630"
      ]
     },
     "execution_count": 4,
     "metadata": {},
     "output_type": "execute_result"
    }
   ],
   "source": [
    "d.sum().compute()"
   ]
  },
  {
   "cell_type": "code",
   "execution_count": 5,
   "metadata": {
    "execution": {
     "iopub.execute_input": "2020-05-29T03:30:55.417857Z",
     "iopub.status.busy": "2020-05-29T03:30:55.417342Z",
     "iopub.status.idle": "2020-05-29T03:30:55.429926Z",
     "shell.execute_reply": "2020-05-29T03:30:55.429309Z"
    },
    "papermill": {
     "duration": 0.026022,
     "end_time": "2020-05-29T03:30:55.430058",
     "exception": false,
     "start_time": "2020-05-29T03:30:55.404036",
     "status": "completed"
    },
    "scrolled": true,
    "tags": []
   },
   "outputs": [
    {
     "data": {
      "text/plain": [
       "matrix([[630]])"
      ]
     },
     "execution_count": 5,
     "metadata": {},
     "output_type": "execute_result"
    }
   ],
   "source": [
    "sps.sum().compute()"
   ]
  },
  {
   "cell_type": "code",
   "execution_count": 6,
   "metadata": {
    "execution": {
     "iopub.execute_input": "2020-05-29T03:30:55.456311Z",
     "iopub.status.busy": "2020-05-29T03:30:55.455473Z",
     "iopub.status.idle": "2020-05-29T03:30:55.462577Z",
     "shell.execute_reply": "2020-05-29T03:30:55.463030Z"
    },
    "papermill": {
     "duration": 0.023889,
     "end_time": "2020-05-29T03:30:55.463198",
     "exception": false,
     "start_time": "2020-05-29T03:30:55.439309",
     "status": "completed"
    },
    "tags": []
   },
   "outputs": [
    {
     "data": {
      "text/plain": [
       "array([ 15,  51,  87, 123, 159, 195])"
      ]
     },
     "execution_count": 6,
     "metadata": {},
     "output_type": "execute_result"
    }
   ],
   "source": [
    "d.sum(axis=1).compute()"
   ]
  },
  {
   "cell_type": "code",
   "execution_count": 7,
   "metadata": {
    "execution": {
     "iopub.execute_input": "2020-05-29T03:30:55.481843Z",
     "iopub.status.busy": "2020-05-29T03:30:55.481340Z",
     "iopub.status.idle": "2020-05-29T03:30:55.496152Z",
     "shell.execute_reply": "2020-05-29T03:30:55.496632Z"
    },
    "papermill": {
     "duration": 0.026332,
     "end_time": "2020-05-29T03:30:55.496763",
     "exception": false,
     "start_time": "2020-05-29T03:30:55.470431",
     "status": "completed"
    },
    "scrolled": true,
    "tags": []
   },
   "outputs": [
    {
     "data": {
      "text/plain": [
       "matrix([[ 15],\n",
       "        [ 51],\n",
       "        [ 87],\n",
       "        [123],\n",
       "        [159],\n",
       "        [195]])"
      ]
     },
     "execution_count": 7,
     "metadata": {},
     "output_type": "execute_result"
    }
   ],
   "source": [
    "sps.sum(axis=1).compute()"
   ]
  },
  {
   "cell_type": "code",
   "execution_count": 8,
   "metadata": {
    "execution": {
     "iopub.execute_input": "2020-05-29T03:30:55.514328Z",
     "iopub.status.busy": "2020-05-29T03:30:55.513769Z",
     "iopub.status.idle": "2020-05-29T03:30:55.526195Z",
     "shell.execute_reply": "2020-05-29T03:30:55.526713Z"
    },
    "papermill": {
     "duration": 0.022816,
     "end_time": "2020-05-29T03:30:55.526838",
     "exception": false,
     "start_time": "2020-05-29T03:30:55.504022",
     "status": "completed"
    },
    "scrolled": true,
    "tags": []
   },
   "outputs": [
    {
     "data": {
      "text/plain": [
       "matrix([[630]])"
      ]
     },
     "execution_count": 8,
     "metadata": {},
     "output_type": "execute_result"
    }
   ],
   "source": [
    "from numpy import matrix\n",
    "mats = d.map_blocks(matrix, chunks=(3,3))\n",
    "mats.sum().compute()"
   ]
  }
 ],
 "metadata": {
  "kernelspec": {
   "display_name": "3.8.2",
   "language": "python",
   "name": "3.8.2"
  },
  "language_info": {
   "codemirror_mode": {
    "name": "ipython",
    "version": 3
   },
   "file_extension": ".py",
   "mimetype": "text/x-python",
   "name": "python",
   "nbconvert_exporter": "python",
   "pygments_lexer": "ipython3",
   "version": "3.8.2"
  },
  "papermill": {
   "duration": 1.610127,
   "end_time": "2020-05-29T03:30:55.648765",
   "environment_variables": {},
   "exception": null,
   "input_path": "sum-test.ipynb",
   "output_path": "passed.ipynb",
   "parameters": {},
   "start_time": "2020-05-29T03:30:54.038638",
   "version": "2.1.1"
  }
 },
 "nbformat": 4,
 "nbformat_minor": 2
}