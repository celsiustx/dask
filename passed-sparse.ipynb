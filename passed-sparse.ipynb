{
 "cells": [
  {
   "cell_type": "code",
   "execution_count": 1,
   "metadata": {
    "execution": {
     "iopub.execute_input": "2020-05-29T04:36:00.770505Z",
     "iopub.status.busy": "2020-05-29T04:36:00.769932Z",
     "iopub.status.idle": "2020-05-29T04:36:01.114914Z",
     "shell.execute_reply": "2020-05-29T04:36:01.115416Z"
    },
    "papermill": {
     "duration": 0.373735,
     "end_time": "2020-05-29T04:36:01.115655",
     "exception": false,
     "start_time": "2020-05-29T04:36:00.741920",
     "status": "completed"
    },
    "tags": []
   },
   "outputs": [
    {
     "data": {
      "text/html": [
       "<table>\n",
       "<tr>\n",
       "<td>\n",
       "<table>\n",
       "  <thead>\n",
       "    <tr><td> </td><th> Array </th><th> Chunk </th></tr>\n",
       "  </thead>\n",
       "  <tbody>\n",
       "    <tr><th> Bytes </th><td> 288 B </td> <td> 72 B </td></tr>\n",
       "    <tr><th> Shape </th><td> (6, 6) </td> <td> (3, 3) </td></tr>\n",
       "    <tr><th> Count </th><td> 5 Tasks </td><td> 4 Chunks </td></tr>\n",
       "    <tr><th> Type </th><td> int64 </td><td> numpy.ndarray </td></tr>\n",
       "  </tbody>\n",
       "</table>\n",
       "</td>\n",
       "<td>\n",
       "<svg width=\"170\" height=\"170\" style=\"stroke:rgb(0,0,0);stroke-width:1\" >\n",
       "\n",
       "  <!-- Horizontal lines -->\n",
       "  <line x1=\"0\" y1=\"0\" x2=\"120\" y2=\"0\" style=\"stroke-width:2\" />\n",
       "  <line x1=\"0\" y1=\"60\" x2=\"120\" y2=\"60\" />\n",
       "  <line x1=\"0\" y1=\"120\" x2=\"120\" y2=\"120\" style=\"stroke-width:2\" />\n",
       "\n",
       "  <!-- Vertical lines -->\n",
       "  <line x1=\"0\" y1=\"0\" x2=\"0\" y2=\"120\" style=\"stroke-width:2\" />\n",
       "  <line x1=\"60\" y1=\"0\" x2=\"60\" y2=\"120\" />\n",
       "  <line x1=\"120\" y1=\"0\" x2=\"120\" y2=\"120\" style=\"stroke-width:2\" />\n",
       "\n",
       "  <!-- Colored Rectangle -->\n",
       "  <polygon points=\"0.000000,0.000000 120.000000,0.000000 120.000000,120.000000 0.000000,120.000000\" style=\"fill:#ECB172A0;stroke-width:0\"/>\n",
       "\n",
       "  <!-- Text -->\n",
       "  <text x=\"60.000000\" y=\"140.000000\" font-size=\"1.0rem\" font-weight=\"100\" text-anchor=\"middle\" >6</text>\n",
       "  <text x=\"140.000000\" y=\"60.000000\" font-size=\"1.0rem\" font-weight=\"100\" text-anchor=\"middle\" transform=\"rotate(0,140.000000,60.000000)\">6</text>\n",
       "</svg>\n",
       "</td>\n",
       "</tr>\n",
       "</table>"
      ],
      "text/plain": [
       "dask.array<array, shape=(6, 6), dtype=int64, chunksize=(3, 3), chunktype=numpy.ndarray>"
      ]
     },
     "execution_count": 1,
     "metadata": {},
     "output_type": "execute_result"
    }
   ],
   "source": [
    "from dask.array import from_array\n",
    "from numpy import array\n",
    "\n",
    "A = array(range(36)).reshape((6,6))\n",
    "d = from_array(A, chunks=(3,3))\n",
    "d"
   ]
  },
  {
   "cell_type": "markdown",
   "metadata": {
    "papermill": {
     "duration": 0.015399,
     "end_time": "2020-05-29T04:36:01.145768",
     "exception": false,
     "start_time": "2020-05-29T04:36:01.130369",
     "status": "completed"
    },
    "tags": []
   },
   "source": [
    "## `scipy.sparse`"
   ]
  },
  {
   "cell_type": "code",
   "execution_count": 2,
   "metadata": {
    "execution": {
     "iopub.execute_input": "2020-05-29T04:36:01.181471Z",
     "iopub.status.busy": "2020-05-29T04:36:01.180618Z",
     "iopub.status.idle": "2020-05-29T04:36:01.263616Z",
     "shell.execute_reply": "2020-05-29T04:36:01.263189Z"
    },
    "papermill": {
     "duration": 0.103233,
     "end_time": "2020-05-29T04:36:01.263715",
     "exception": false,
     "start_time": "2020-05-29T04:36:01.160482",
     "status": "completed"
    },
    "tags": []
   },
   "outputs": [
    {
     "data": {
      "text/plain": [
       "<6x6 sparse matrix of type '<class 'numpy.longlong'>'\n",
       "\twith 35 stored elements in COOrdinate format>"
      ]
     },
     "execution_count": 2,
     "metadata": {},
     "output_type": "execute_result"
    }
   ],
   "source": [
    "from scipy.sparse import spmatrix, coo_matrix, csr_matrix, csc_matrix, dia_matrix\n",
    "\n",
    "sps = d.map_blocks(coo_matrix, chunks=(3,3))\n",
    "spsc = sps.compute(scheduler=\"synchronous\")\n",
    "spsc"
   ]
  },
  {
   "cell_type": "code",
   "execution_count": 3,
   "metadata": {
    "execution": {
     "iopub.execute_input": "2020-05-29T04:36:01.301178Z",
     "iopub.status.busy": "2020-05-29T04:36:01.300457Z",
     "iopub.status.idle": "2020-05-29T04:36:01.306110Z",
     "shell.execute_reply": "2020-05-29T04:36:01.305487Z"
    },
    "papermill": {
     "duration": 0.027854,
     "end_time": "2020-05-29T04:36:01.306220",
     "exception": false,
     "start_time": "2020-05-29T04:36:01.278366",
     "status": "completed"
    },
    "tags": []
   },
   "outputs": [
    {
     "data": {
      "text/plain": [
       "matrix([[ 0,  1,  2,  3,  4,  5],\n",
       "        [ 6,  7,  8,  9, 10, 11],\n",
       "        [12, 13, 14, 15, 16, 17],\n",
       "        [18, 19, 20, 21, 22, 23],\n",
       "        [24, 25, 26, 27, 28, 29],\n",
       "        [30, 31, 32, 33, 34, 35]], dtype=int64)"
      ]
     },
     "execution_count": 3,
     "metadata": {},
     "output_type": "execute_result"
    }
   ],
   "source": [
    "spsc.todense()"
   ]
  },
  {
   "cell_type": "markdown",
   "metadata": {
    "papermill": {
     "duration": 0.015122,
     "end_time": "2020-05-29T04:36:01.336925",
     "exception": false,
     "start_time": "2020-05-29T04:36:01.321803",
     "status": "completed"
    },
    "tags": []
   },
   "source": [
    "### `axis=None`"
   ]
  },
  {
   "cell_type": "markdown",
   "metadata": {
    "papermill": {
     "duration": 0.015376,
     "end_time": "2020-05-29T04:36:01.367249",
     "exception": false,
     "start_time": "2020-05-29T04:36:01.351873",
     "status": "completed"
    },
    "tags": []
   },
   "source": [
    "Dask dense blocks:"
   ]
  },
  {
   "cell_type": "code",
   "execution_count": 4,
   "metadata": {
    "execution": {
     "iopub.execute_input": "2020-05-29T04:36:01.407826Z",
     "iopub.status.busy": "2020-05-29T04:36:01.405028Z",
     "iopub.status.idle": "2020-05-29T04:36:01.428805Z",
     "shell.execute_reply": "2020-05-29T04:36:01.429316Z"
    },
    "papermill": {
     "duration": 0.04806,
     "end_time": "2020-05-29T04:36:01.429523",
     "exception": false,
     "start_time": "2020-05-29T04:36:01.381463",
     "status": "completed"
    },
    "tags": []
   },
   "outputs": [
    {
     "data": {
      "text/plain": [
       "(630, 630, array([[630]]))"
      ]
     },
     "execution_count": 4,
     "metadata": {},
     "output_type": "execute_result"
    }
   ],
   "source": [
    "d.sum().compute(), d.sum(keepdims=False).compute(), d.sum(keepdims=True).compute()"
   ]
  },
  {
   "cell_type": "markdown",
   "metadata": {
    "papermill": {
     "duration": 0.019075,
     "end_time": "2020-05-29T04:36:01.466258",
     "exception": false,
     "start_time": "2020-05-29T04:36:01.447183",
     "status": "completed"
    },
    "tags": []
   },
   "source": [
    "Dask scipy.sparse blocks:"
   ]
  },
  {
   "cell_type": "code",
   "execution_count": 5,
   "metadata": {
    "execution": {
     "iopub.execute_input": "2020-05-29T04:36:01.506142Z",
     "iopub.status.busy": "2020-05-29T04:36:01.504123Z",
     "iopub.status.idle": "2020-05-29T04:36:01.530353Z",
     "shell.execute_reply": "2020-05-29T04:36:01.529781Z"
    },
    "papermill": {
     "duration": 0.049376,
     "end_time": "2020-05-29T04:36:01.530452",
     "exception": false,
     "start_time": "2020-05-29T04:36:01.481076",
     "status": "completed"
    },
    "scrolled": true,
    "tags": []
   },
   "outputs": [
    {
     "data": {
      "text/plain": [
       "(matrix([[630]]), matrix([[630]]), matrix([[630]]))"
      ]
     },
     "execution_count": 5,
     "metadata": {},
     "output_type": "execute_result"
    }
   ],
   "source": [
    "sps.sum().compute(), sps.sum(keepdims=False).compute(), sps.sum(keepdims=True).compute()"
   ]
  },
  {
   "cell_type": "markdown",
   "metadata": {
    "papermill": {
     "duration": 0.01732,
     "end_time": "2020-05-29T04:36:01.564665",
     "exception": false,
     "start_time": "2020-05-29T04:36:01.547345",
     "status": "completed"
    },
    "tags": []
   },
   "source": [
    "scipy.sparse, sans Dask:"
   ]
  },
  {
   "cell_type": "code",
   "execution_count": 6,
   "metadata": {
    "execution": {
     "iopub.execute_input": "2020-05-29T04:36:01.603355Z",
     "iopub.status.busy": "2020-05-29T04:36:01.602659Z",
     "iopub.status.idle": "2020-05-29T04:36:01.607982Z",
     "shell.execute_reply": "2020-05-29T04:36:01.607477Z"
    },
    "papermill": {
     "duration": 0.027372,
     "end_time": "2020-05-29T04:36:01.608220",
     "exception": false,
     "start_time": "2020-05-29T04:36:01.580848",
     "status": "completed"
    },
    "scrolled": true,
    "tags": []
   },
   "outputs": [
    {
     "data": {
      "text/plain": [
       "(630, 630, matrix([[630]], dtype=int64))"
      ]
     },
     "execution_count": 6,
     "metadata": {},
     "output_type": "execute_result"
    }
   ],
   "source": [
    "spsc.sum(), spsc.sum(keepdims=False), spsc.sum(keepdims=True)"
   ]
  },
  {
   "cell_type": "markdown",
   "metadata": {
    "papermill": {
     "duration": 0.016359,
     "end_time": "2020-05-29T04:36:01.640658",
     "exception": false,
     "start_time": "2020-05-29T04:36:01.624299",
     "status": "completed"
    },
    "tags": []
   },
   "source": [
    "### `axis=0`"
   ]
  },
  {
   "cell_type": "markdown",
   "metadata": {
    "papermill": {
     "duration": 0.013702,
     "end_time": "2020-05-29T04:36:01.668544",
     "exception": false,
     "start_time": "2020-05-29T04:36:01.654842",
     "status": "completed"
    },
    "tags": []
   },
   "source": [
    "Dask dense blocks:"
   ]
  },
  {
   "cell_type": "code",
   "execution_count": 7,
   "metadata": {
    "execution": {
     "iopub.execute_input": "2020-05-29T04:36:01.701753Z",
     "iopub.status.busy": "2020-05-29T04:36:01.701261Z",
     "iopub.status.idle": "2020-05-29T04:36:01.718290Z",
     "shell.execute_reply": "2020-05-29T04:36:01.717843Z"
    },
    "papermill": {
     "duration": 0.036108,
     "end_time": "2020-05-29T04:36:01.718383",
     "exception": false,
     "start_time": "2020-05-29T04:36:01.682275",
     "status": "completed"
    },
    "tags": []
   },
   "outputs": [
    {
     "data": {
      "text/plain": [
       "(array([ 90,  96, 102, 108, 114, 120]),\n",
       " array([ 90,  96, 102, 108, 114, 120]),\n",
       " array([[ 90,  96, 102, 108, 114, 120]]))"
      ]
     },
     "execution_count": 7,
     "metadata": {},
     "output_type": "execute_result"
    }
   ],
   "source": [
    "d.sum(axis=0).compute(), d.sum(axis=0, keepdims=False).compute(), d.sum(axis=0, keepdims=True).compute()"
   ]
  },
  {
   "cell_type": "markdown",
   "metadata": {
    "papermill": {
     "duration": 0.013928,
     "end_time": "2020-05-29T04:36:01.746243",
     "exception": false,
     "start_time": "2020-05-29T04:36:01.732315",
     "status": "completed"
    },
    "tags": []
   },
   "source": [
    "Dask scipy.sparse blocks:"
   ]
  },
  {
   "cell_type": "code",
   "execution_count": 8,
   "metadata": {
    "execution": {
     "iopub.execute_input": "2020-05-29T04:36:01.781583Z",
     "iopub.status.busy": "2020-05-29T04:36:01.781101Z",
     "iopub.status.idle": "2020-05-29T04:36:01.803905Z",
     "shell.execute_reply": "2020-05-29T04:36:01.804304Z"
    },
    "papermill": {
     "duration": 0.044287,
     "end_time": "2020-05-29T04:36:01.804419",
     "exception": false,
     "start_time": "2020-05-29T04:36:01.760132",
     "status": "completed"
    },
    "tags": []
   },
   "outputs": [
    {
     "data": {
      "text/plain": [
       "(matrix([[ 90,  96, 102],\n",
       "         [108, 114, 120]]),\n",
       " matrix([[ 90,  96, 102],\n",
       "         [108, 114, 120]]),\n",
       " array([[ 90,  96, 102, 108, 114, 120]]))"
      ]
     },
     "execution_count": 8,
     "metadata": {},
     "output_type": "execute_result"
    }
   ],
   "source": [
    "sps.sum(axis=0).compute(), sps.sum(axis=0, keepdims=False).compute(), sps.sum(axis=0, keepdims=True).compute()"
   ]
  },
  {
   "cell_type": "markdown",
   "metadata": {
    "papermill": {
     "duration": 0.014254,
     "end_time": "2020-05-29T04:36:01.832927",
     "exception": false,
     "start_time": "2020-05-29T04:36:01.818673",
     "status": "completed"
    },
    "tags": []
   },
   "source": [
    "scipy.sparse, sans Dask:"
   ]
  },
  {
   "cell_type": "code",
   "execution_count": 9,
   "metadata": {
    "execution": {
     "iopub.execute_input": "2020-05-29T04:36:01.871509Z",
     "iopub.status.busy": "2020-05-29T04:36:01.871001Z",
     "iopub.status.idle": "2020-05-29T04:36:01.875416Z",
     "shell.execute_reply": "2020-05-29T04:36:01.875817Z"
    },
    "papermill": {
     "duration": 0.028494,
     "end_time": "2020-05-29T04:36:01.875991",
     "exception": false,
     "start_time": "2020-05-29T04:36:01.847497",
     "status": "completed"
    },
    "tags": []
   },
   "outputs": [
    {
     "data": {
      "text/plain": [
       "(matrix([[ 90,  96, 102, 108, 114, 120]], dtype=int64),\n",
       " matrix([[ 90,  96, 102, 108, 114, 120]], dtype=int64),\n",
       " matrix([[ 90,  96, 102, 108, 114, 120]], dtype=int64))"
      ]
     },
     "execution_count": 9,
     "metadata": {},
     "output_type": "execute_result"
    }
   ],
   "source": [
    "spsc.sum(axis=0), spsc.sum(axis=0, keepdims=False), spsc.sum(axis=0, keepdims=True)"
   ]
  },
  {
   "cell_type": "markdown",
   "metadata": {
    "papermill": {
     "duration": 0.014801,
     "end_time": "2020-05-29T04:36:01.906793",
     "exception": false,
     "start_time": "2020-05-29T04:36:01.891992",
     "status": "completed"
    },
    "tags": []
   },
   "source": [
    "### `axis=1`"
   ]
  },
  {
   "cell_type": "markdown",
   "metadata": {
    "papermill": {
     "duration": 0.014737,
     "end_time": "2020-05-29T04:36:01.936421",
     "exception": false,
     "start_time": "2020-05-29T04:36:01.921684",
     "status": "completed"
    },
    "tags": []
   },
   "source": [
    "Dask dense blocks:"
   ]
  },
  {
   "cell_type": "code",
   "execution_count": 10,
   "metadata": {
    "execution": {
     "iopub.execute_input": "2020-05-29T04:36:01.976266Z",
     "iopub.status.busy": "2020-05-29T04:36:01.975731Z",
     "iopub.status.idle": "2020-05-29T04:36:01.991517Z",
     "shell.execute_reply": "2020-05-29T04:36:01.991114Z"
    },
    "papermill": {
     "duration": 0.038609,
     "end_time": "2020-05-29T04:36:01.991606",
     "exception": false,
     "start_time": "2020-05-29T04:36:01.952997",
     "status": "completed"
    },
    "tags": []
   },
   "outputs": [
    {
     "data": {
      "text/plain": [
       "(array([ 15,  51,  87, 123, 159, 195]),\n",
       " array([ 15,  51,  87, 123, 159, 195]),\n",
       " array([[ 15],\n",
       "        [ 51],\n",
       "        [ 87],\n",
       "        [123],\n",
       "        [159],\n",
       "        [195]]))"
      ]
     },
     "execution_count": 10,
     "metadata": {},
     "output_type": "execute_result"
    }
   ],
   "source": [
    "d.sum(axis=1).compute(), d.sum(axis=1, keepdims=False).compute(), d.sum(axis=1, keepdims=True).compute()"
   ]
  },
  {
   "cell_type": "markdown",
   "metadata": {
    "papermill": {
     "duration": 0.016865,
     "end_time": "2020-05-29T04:36:02.023988",
     "exception": false,
     "start_time": "2020-05-29T04:36:02.007123",
     "status": "completed"
    },
    "tags": []
   },
   "source": [
    "Dask scipy.sparse blocks:"
   ]
  },
  {
   "cell_type": "code",
   "execution_count": 11,
   "metadata": {
    "execution": {
     "iopub.execute_input": "2020-05-29T04:36:02.062043Z",
     "iopub.status.busy": "2020-05-29T04:36:02.061149Z",
     "iopub.status.idle": "2020-05-29T04:36:02.082206Z",
     "shell.execute_reply": "2020-05-29T04:36:02.081777Z"
    },
    "papermill": {
     "duration": 0.043108,
     "end_time": "2020-05-29T04:36:02.082299",
     "exception": false,
     "start_time": "2020-05-29T04:36:02.039191",
     "status": "completed"
    },
    "tags": []
   },
   "outputs": [
    {
     "data": {
      "text/plain": [
       "(matrix([[ 15],\n",
       "         [ 51],\n",
       "         [ 87],\n",
       "         [123],\n",
       "         [159],\n",
       "         [195]]),\n",
       " matrix([[ 15],\n",
       "         [ 51],\n",
       "         [ 87],\n",
       "         [123],\n",
       "         [159],\n",
       "         [195]]),\n",
       " array([[ 15],\n",
       "        [ 51],\n",
       "        [ 87],\n",
       "        [123],\n",
       "        [159],\n",
       "        [195]]))"
      ]
     },
     "execution_count": 11,
     "metadata": {},
     "output_type": "execute_result"
    }
   ],
   "source": [
    "sps.sum(axis=1).compute(), sps.sum(axis=1, keepdims=False).compute(), sps.sum(axis=1, keepdims=True).compute()"
   ]
  },
  {
   "cell_type": "markdown",
   "metadata": {
    "papermill": {
     "duration": 0.01566,
     "end_time": "2020-05-29T04:36:02.113008",
     "exception": false,
     "start_time": "2020-05-29T04:36:02.097348",
     "status": "completed"
    },
    "tags": []
   },
   "source": [
    "scipy.sparse, sans Dask:"
   ]
  },
  {
   "cell_type": "code",
   "execution_count": 12,
   "metadata": {
    "execution": {
     "iopub.execute_input": "2020-05-29T04:36:02.150865Z",
     "iopub.status.busy": "2020-05-29T04:36:02.150332Z",
     "iopub.status.idle": "2020-05-29T04:36:02.154635Z",
     "shell.execute_reply": "2020-05-29T04:36:02.155097Z"
    },
    "papermill": {
     "duration": 0.026404,
     "end_time": "2020-05-29T04:36:02.155217",
     "exception": false,
     "start_time": "2020-05-29T04:36:02.128813",
     "status": "completed"
    },
    "tags": []
   },
   "outputs": [
    {
     "data": {
      "text/plain": [
       "(matrix([[ 15],\n",
       "         [ 51],\n",
       "         [ 87],\n",
       "         [123],\n",
       "         [159],\n",
       "         [195]], dtype=int64),\n",
       " matrix([[ 15],\n",
       "         [ 51],\n",
       "         [ 87],\n",
       "         [123],\n",
       "         [159],\n",
       "         [195]], dtype=int64),\n",
       " matrix([[ 15],\n",
       "         [ 51],\n",
       "         [ 87],\n",
       "         [123],\n",
       "         [159],\n",
       "         [195]], dtype=int64))"
      ]
     },
     "execution_count": 12,
     "metadata": {},
     "output_type": "execute_result"
    }
   ],
   "source": [
    "spsc.sum(axis=1), spsc.sum(axis=1, keepdims=False), spsc.sum(axis=1, keepdims=True)"
   ]
  }
 ],
 "metadata": {
  "kernelspec": {
   "display_name": "3.8.2",
   "language": "python",
   "name": "3.8.2"
  },
  "language_info": {
   "codemirror_mode": {
    "name": "ipython",
    "version": 3
   },
   "file_extension": ".py",
   "mimetype": "text/x-python",
   "name": "python",
   "nbconvert_exporter": "python",
   "pygments_lexer": "ipython3",
   "version": "3.8.2"
  },
  "papermill": {
   "duration": 2.379606,
   "end_time": "2020-05-29T04:36:02.279838",
   "environment_variables": {},
   "exception": null,
   "input_path": "sum-test-sparse.ipynb",
   "output_path": "passed-sparse.ipynb",
   "parameters": {},
   "start_time": "2020-05-29T04:35:59.900232",
   "version": "2.1.1"
  }
 },
 "nbformat": 4,
 "nbformat_minor": 2
}